{
 "cells": [
  {
   "cell_type": "markdown",
   "metadata": {},
   "source": [
    "# Analyse énergétique d'un mouvement"
   ]
  },
  {
   "cell_type": "markdown",
   "metadata": {},
   "source": [
    "Un notebook se lit de haut en bas. Toutes les cellules de code doivent être exécutées :\n",
    "- soit en cliquant sur le bouton \"Exécuter\" dans la barre d'outil\n",
    "- soit au clavier en tapant sur les touches MAJ + ENTREE  \n",
    "\n",
    "\n",
    "Pour récupérer votre travail sur votre ordinateur : menu File > Download As > Notebook (.ipynb)"
   ]
  },
  {
   "cell_type": "markdown",
   "metadata": {},
   "source": [
    "## Objectifs\n",
    "\n",
    "* pointage d'une vidéo\n",
    "* Savoir tracer une courbes en nuage de points en python \n",
    "* savoir manipuler des listes"
   ]
  },
  {
   "cell_type": "markdown",
   "metadata": {},
   "source": [
    "## Présentation du contexte\n",
    "\n",
    "Une personne lance un ballon vers le haut de telle sorte que le mouvement décrit par son centre d’inertie soit parabolique. Dès que le ballon est lâché, sa vitesse et son altitude par rapport au sol varient. Grâce à ces grandeurs mesurables, il est possible de faire une analyse en termes d’énergie.\n",
    "\n",
    "Question : Comment évolue l’énergie mécanique du ballon pendant la phase de montée ?"
   ]
  },
  {
   "cell_type": "markdown",
   "metadata": {},
   "source": [
    "## Récupération des données\n",
    "\n",
    "1. On récupère les données t, x y à l'aide d'un pointage des positions du ballon dans la vidéo à l'aide du logiciel Aviméca :\n",
    "    1. caractéristiques du pointage\n",
    "        - l'échelle est donnée grâce à la taille du poteau de volley (face au lanceur) :2,25m.\n",
    "        - placer les axes au centre du ballon de la première image\n",
    "        - pointer le centre du ballon : commencer le pointage lorsque le ballon n'est plus dans les mains du lanceur et **l'arrêter lorsque le ballon est au point haut de la trajectoire**.\n",
    "         \n",
    "    2. exporter vos données (menu Fichiers/Mesures/Enregistrer dans un fichier/format*.txt) : mettre votre prenom et nom comme titre du fichier et choisir \";\" comme séparateur.\n",
    "    \n",
    "    3. Déposer votre fichier sur binder : cliquer sur le bouton \"upload\" \"puis téléverser\".\n",
    "\n",
    "\n",
    "2. Les données sont en mémoire dans des listes python appelées t, x et y"
   ]
  },
  {
   "cell_type": "markdown",
   "metadata": {},
   "source": [
    " <div class = \"alert alert-info\">\n",
    "    \n",
    "\n",
    " Exécuter le programme ci-dessous : changer le nom du programme "
   ]
  },
  {
   "cell_type": "code",
   "execution_count": null,
   "metadata": {},
   "outputs": [],
   "source": [
    "#ouverture du fichier contenant les données de trajectoire\n",
    "#le fichier doit être dans le même dossier que le notebook\n",
    "name=\"pointage-volley.txt\"\n",
    "\n",
    "sep = \";\" #caractère séparateur du csv -peut être une virgule, un point-virgule ou une tabulation noté \\t \n",
    "entete = 3 #nombre de lignes d'entete\n",
    "\n",
    "f = open(name,\"r\")\n",
    "data = f.readlines() #on lit toutes les lignes et on met ça dans une liste -un élément par ligne-\n",
    "f.close() #on referme le fichier\n",
    "\n",
    "data = data[ entete : ] #on supprime les lignes d'en-tête qui ne nous intéressent pas\n",
    "\n",
    "#on construit les listes de valeurs utiles\n",
    "# les données du fichier texte sont de la forme t x y (adapter les lignes ci-dessous sinon)\n",
    "t = [] \n",
    "x = []\n",
    "y = []\n",
    "for ligne in data:\n",
    "    ligne = ligne.replace(\",\" , \".\") #change les virgules en point => format numérique différent sur excel et sur python\n",
    "    ligne = ligne.strip().split(sep) #on sépare les différents élément en utilisant le caractère séparateur défini\n",
    "    ligne = list(map(float,ligne)) #on convertit chaque élément en float\n",
    "    #on rentre les valeurs dans les listes adaptées\n",
    "    t.append(ligne[0]) #premier élément de la ligne = t\n",
    "    x.append(ligne[1]) # second élément de la ligne = x\n",
    "    y.append(ligne[2]) # dernier élément de la ligne = y\n",
    "\n",
    "#affichage des listes\n",
    "print(\"t=\",t)\n",
    "print(\"x=\",x)\n",
    "print(\"y=\",y)"
   ]
  },
  {
   "cell_type": "markdown",
   "metadata": {},
   "source": [
    "## Tracé de la courbe"
   ]
  },
  {
   "cell_type": "markdown",
   "metadata": {},
   "source": [
    "## Rappel : principe du tracé d'une courbe en python\n",
    "\n",
    "On utilise la méthode `plot`qui permet de tracer des courbes ou des nuages de points. \n",
    "Il suffit de disposer de deux listes de même taille, l'une correspondant aux valeurs de l'abscisse, l'autre aux valeurs de l'ordonnée. "
   ]
  },
  {
   "cell_type": "markdown",
   "metadata": {},
   "source": [
    " <div class = \"alert alert-info\">\n",
    "    \n",
    "\n",
    "Exécuter le programme pour rappel des différentes fonctionnalités ( voir aussi le lien https://phychim.ac-versailles.fr/IMG/pdf/tuto_python_matplotlib.pdf )"
   ]
  },
  {
   "cell_type": "code",
   "execution_count": null,
   "metadata": {},
   "outputs": [],
   "source": [
    "import matplotlib.pyplot as plt\n",
    "\n",
    "absc = [10, 11, 13, 15, 18, 20, 22]  # les valeurs en abscisse sous forme de liste  \n",
    "ordo = [1, 3, 5, 8, 5, 1, 7] # les valeurs en ordonnée sous forme de liste\n",
    "\n",
    "plt.figure(figsize=(10,10)) # taille du graphique (en pouces)\n",
    "\n",
    "plt.axes(aspect='equal') #  repère orthonormé\n",
    "\n",
    "plt.grid()    # affichage d'une grille\n",
    "\n",
    "\n",
    "\n",
    "plt.xlim([5,25]) # échelle en x\n",
    "\n",
    "plt.ylim([0,10]) # échelle en y\n",
    "\n",
    "plt.plot(absc, ordo, color = 'r', marker = '>', linestyle = ':') #On peut ajouter différents attributs, comme la couleur, le style de trait, le style de point.\n",
    "plt.title(\"évolution de la température\") #titre du graphique\n",
    "plt.xlabel(\"x en °C\") # légende de l'axe des abscisses\n",
    "plt.ylabel(\"y en minutes\") # légende de l'axe des oordonnées\n",
    "#plt.savefig('courbe.PNG') #pour sauvegader une image de votre courbe (même dossier que le notebook)\n",
    "\n",
    "plt.show() # affiche le graphique"
   ]
  },
  {
   "cell_type": "markdown",
   "metadata": {},
   "source": [
    " <div class = \"alert alert-info\">\n",
    "Tracer la trajectoire du ballon en nuage de point (c'est à dire y en fonction de x)  avec le titre des axes et le titre du graphique. \n",
    "    \n",
    "Ne pas indiquer d'échelle\n",
    "    \n",
    "La taille du graphique sera un carré de 10 pouces de côté"
   ]
  },
  {
   "cell_type": "code",
   "execution_count": 1,
   "metadata": {},
   "outputs": [],
   "source": [
    "#trajectoire du ballon\n"
   ]
  },
  {
   "cell_type": "markdown",
   "metadata": {},
   "source": [
    "## Calcul de l'énergie mécanique\n",
    "\n",
    "L'énergie mécanique d'un objet est l'énergie due à son mouvement  et à son mouvement\n",
    "- **l'énergie cinétique** notée EC en J est l'énergie due au mouvement : $ E_C = \\frac {1}{2} \\times m \\times v^2 $ avec m masse en kg et v la vitesse en m/s\n",
    "- **l'énergie potentielle de pesanteur** notée Epp en J : $ E_{pp} = m \\times g \\times y $ avec g=9,8N/kg = intensité du champ de pesanteur\n",
    "- **l'énergie mécanique** notée Em en J : Em=Ec + Epp"
   ]
  },
  {
   "cell_type": "markdown",
   "metadata": {},
   "source": [
    "## Calcul de la vitesse (rappel)\n",
    "\n",
    "La vitesse au point M se calcule à partir des valeurs de  $\n",
    "M \n",
    "\\begin{pmatrix}\n",
    "x \\\\\n",
    "y \\\\\n",
    "\\end{pmatrix}\n",
    "$ et de la position suivante $ M' \n",
    "\\begin{pmatrix}\n",
    "x' \\\\\n",
    "y' \\\\\n",
    "\\end{pmatrix}\n",
    "$.\n",
    "L'abscisse de $ \\overrightarrow v $ est notée vx, l'ordonnée vy, c'est à dire $\\overrightarrow v \n",
    "\\begin{pmatrix}\n",
    "vx \\\\\n",
    "vy \\\\\n",
    "\\end{pmatrix}\n",
    "$\n",
    "\n",
    "1. Calcul de vx et vy :\n",
    "\n",
    "Comme la formule de la vitesse est :  $ \\overrightarrow v =   \\dfrac { \\overrightarrow {MM'}} {  t'-t }  $ , $\n",
    "\\overrightarrow v \n",
    "\\begin{pmatrix}\n",
    "vx=\\dfrac{x'-x}{t'-t} \\\\\n",
    "vy=\\dfrac{y'-y}{t'-t} \\\\\n",
    "\\end{pmatrix}\n",
    "$\n",
    "\n",
    "De plus les valeurs de x et y sont dans des listes. Pour repérer un élément dans la liste, il faut écrire par exemple x\\[1\\] qui correspond au deuxième élément de la liste x car la liste est numéroté à partir du rang 0.\n",
    "\n",
    "Donc  $ v_x[i]=\\dfrac {x [i+1]-x[i]} {t[i+1] - t[i]} $ et $ v_y[i]=\\dfrac {y [i+1]-y[i]} {t[i+1]-t[i]} $\n",
    "\n",
    "$ t[i+1] - t[i] $ correspond à la durée entre deux positions successives ( = $ \\Delta t $)\n",
    "\n",
    "\n",
    "2. Calcul de v (= norme de$ \\overrightarrow v $ ) : \n",
    "\n",
    "$\\ v = \\sqrt{ \\ v_x^2 + \\ v_y^2 } $"
   ]
  },
  {
   "cell_type": "markdown",
   "metadata": {},
   "source": [
    "### calcul de vx ###"
   ]
  },
  {
   "cell_type": "markdown",
   "metadata": {},
   "source": [
    "<div class = \"alert alert-info\">\n",
    "\n",
    "vx est calculé à partir de x. Comme x est une liste , vx est une liste. Pour ajouter un élément à la liste, il faut utiliser la méthode `append`.\n",
    "\n",
    "Par exemple, si on veut ajouter la valeur 2 à la liste, il faut utiliser la commande vx.append(2)\n",
    "\n",
    "Pour calculer les valeurs de vx, il faut donc créer une liste vide nommée vx avec la commande `vx=[]` puis ajouter les éléments un par un.\n",
    "\n",
    "Exécuter le programme ci-dessous"
   ]
  },
  {
   "cell_type": "code",
   "execution_count": null,
   "metadata": {},
   "outputs": [],
   "source": [
    "vx=[] # création d'une liste vide\n",
    "\n",
    "vx.append((x[1]-x[0])/(t[1]-t[0])) #calcul de la première valeur de vx\n",
    "print(vx) # affichage de la liste"
   ]
  },
  {
   "cell_type": "markdown",
   "metadata": {},
   "source": [
    "<div class = \"alert alert-info\">\n",
    "    \n",
    "Ecrire le programme ci-dessous pour créer la liste vx permettant de calculer les trois premières valeurs de la liste vx puis d'afficher la liste vx    "
   ]
  },
  {
   "cell_type": "code",
   "execution_count": 8,
   "metadata": {},
   "outputs": [],
   "source": [
    "#calcul des trois premières valeurs de vx"
   ]
  },
  {
   "cell_type": "markdown",
   "metadata": {},
   "source": [
    "<div class = \"alert alert-info\">\n",
    "\n",
    "**amélioration du programme : utilisation d'une boucle**  `for` \n",
    "\n",
    "Ajouter les éléments un à un à une liste n'est pas très pratique si on a plusieurs éléments à ajouter.\n",
    "On voit que dans les calculs précédents, les éléments de la liste ne dépendent que de la valeur de i et on fait donc des calculs répétitifs. On peut donc utiliser une boucle `for` en prenant les valeurs de i dans une liste.\n",
    "Par exemple on peut calculer les trois premier éléments de la liste avec la commande suivante : `for i in [O,1,2]` \n",
    "\n",
    "Modifier le programme ci-dessous pour créer la liste vx permettant de calculer les 5 premières valeurs de la liste vx puis d'afficher la liste vx \n"
   ]
  },
  {
   "cell_type": "code",
   "execution_count": null,
   "metadata": {},
   "outputs": [],
   "source": [
    "vx=[]\n",
    "for i in [0,1,2]:\n",
    "    vx.append( (x[i+1]-x[i])/(t[i+1]-t[i])  )\n",
    "print(vx)"
   ]
  },
  {
   "cell_type": "markdown",
   "metadata": {},
   "source": [
    "<div class = \"alert alert-info\">\n",
    "    \n",
    "**amélioration du programme : utilisation de la fonction**   `range()`\n",
    "    \n",
    "Dans le programme précédent la boucle permet de faire moins de calcul, mais leproblème est qu'il faut créer une liste pour les valeurs de i ce qui n'est pas très pratique si il y a beaucoup de valeurs de i.\n",
    "On peut utiliser la fonction `range()` qui permet de générer une série d'entier. La série commence par défaut à 0 et le dernier élément fourni en paramètre ne fait jamais partie de la liste générée ; `range(10)` génère une liste de 10 valeurs, dont les valeurs vont de 0 à 9. Il est possible de spécifier une valeur de début et une valeur d'incrément différentes (y compris négative pour cette dernière, que l'on appelle également parfois le « pas ») : par exemple `range(5,10,2)` génère les valeurs 5,7,9.\n",
    "\n",
    "Modifier le programme précédent en utilisant la fonction `range()`"
   ]
  },
  {
   "cell_type": "code",
   "execution_count": 3,
   "metadata": {},
   "outputs": [],
   "source": [
    "#calcul de vx en utilisant la fonction range"
   ]
  },
  {
   "cell_type": "markdown",
   "metadata": {},
   "source": [
    "<div class = \"alert alert-info\">\n",
    "    \n",
    "**amélioration du programme : utilisation de la fonction** `len()`\n",
    "\n",
    "Le problème du programme précédent est qu'il faut entrer la valeur dans la fonction range . Cette valeur correspond au nombre de calcul qu'on veut effectuer. cette valeur correspond au nombre de valeurs dans la liste x -1 (-1 car on fait le calcul x\\[i+1\\] - x\\[i\\]).\n",
    "Pour connaître le nombre de valeur dans une liste, on utilise la fonction `len()`. Par exemple pour connaître le nombre d'élément de la liste x, il faut utiliser la comande `len(x)`\n",
    "\n",
    "Modifier le programme précédent pour calculer toutes les valeurs vx en utilisant la fonction `len()`"
   ]
  },
  {
   "cell_type": "code",
   "execution_count": 4,
   "metadata": {},
   "outputs": [],
   "source": [
    "#calcul de vx en utilisant les fonction range et len"
   ]
  },
  {
   "cell_type": "markdown",
   "metadata": {},
   "source": [
    " <div class = \"alert alert-info\">\n",
    "    \n",
    "### calcul de vy et v  ###\n",
    "\n",
    "Ecrire le programme pour calculer et afficher  les valeurs de vy et v (il faut utiliser la fonction `sqrt` ) en s'inspirant du calcul de vx , c'est à dire en utilisant une boucle `for` et les fonctions `range()` et `len()`."
   ]
  },
  {
   "cell_type": "code",
   "execution_count": 5,
   "metadata": {},
   "outputs": [],
   "source": [
    "from math import sqrt #import de la fonction sqrt = racine carré\n"
   ]
  },
  {
   "cell_type": "markdown",
   "metadata": {},
   "source": [
    "## Affichage des courbes d'énergie\n"
   ]
  },
  {
   "cell_type": "markdown",
   "metadata": {},
   "source": [
    "## Calcul de Ec, Epp, Em"
   ]
  },
  {
   "cell_type": "markdown",
   "metadata": {},
   "source": [
    "<div class = \"alert alert-info\">\n",
    "\n",
    "Calculer Ec, Epp et Em : ce sont des listes qui doivent être calculées à partir des données précédentes (utiliser `range (len(y) -1)` pour parcourir les listes, pour que toutes les listes aient la même taille)\n",
    "\n",
    "La masse du ballon vaut 0,275 kg\n",
    "\n",
    "**Attention** : pour ajouter terme à terme les éléments de deux listes L<sub>1</sub> et L<sub>2</sub>, il ne faut pas faire L<sub>1</sub> + L<sub>2</sub>, cela ne fait que concaténer les 2 listes c'est à dire créer une liste avec les éléments des deux listes mais il faut utiliser la commende `append` ."
   ]
  },
  {
   "cell_type": "code",
   "execution_count": 6,
   "metadata": {},
   "outputs": [],
   "source": [
    "#données du lancer\n",
    "m=0.275\n",
    "g=9.81\n",
    "#création de Epp\n",
    "\n",
    "#création de Ec\n",
    "\n",
    "#création de Em\n",
    "\n"
   ]
  },
  {
   "cell_type": "markdown",
   "metadata": {},
   "source": [
    "## Tracé des courbes de Ec, Epp, Em"
   ]
  },
  {
   "cell_type": "markdown",
   "metadata": {},
   "source": [
    "<div class = \"alert alert-info\">\n",
    "    \n",
    "Tracer les courbes Ec, Epp et Em (en ordonnée) en fonction de tm (en abscisse) sur le même graphique. Il faut enlever la dernière valeur de la liste t pour que chaque listes aient la même taille. On crée la variable tm correspondant à la liste t moins la dernière valeur `tm=t[O:-1]`\n",
    "\n",
    "**Attention** : pas de repère orthonormé\n"
   ]
  },
  {
   "cell_type": "code",
   "execution_count": null,
   "metadata": {},
   "outputs": [],
   "source": [
    "#trajectoire des courbes d'énergie\n",
    "\n",
    "tm=t[0:-1] #liste des valeurs de temps\n"
   ]
  }
 ],
 "metadata": {
  "kernelspec": {
   "display_name": "Python 3",
   "language": "python",
   "name": "python3"
  },
  "language_info": {
   "codemirror_mode": {
    "name": "ipython",
    "version": 3
   },
   "file_extension": ".py",
   "mimetype": "text/x-python",
   "name": "python",
   "nbconvert_exporter": "python",
   "pygments_lexer": "ipython3",
   "version": "3.7.3"
  }
 },
 "nbformat": 4,
 "nbformat_minor": 4
}

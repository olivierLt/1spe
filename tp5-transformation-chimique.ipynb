{
 "cells": [
  {
   "cell_type": "markdown",
   "metadata": {},
   "source": [
    "# Détermination de l'état final d'un système"
   ]
  },
  {
   "cell_type": "markdown",
   "metadata": {},
   "source": [
    "Un notebook se lit de haut en bas. Toutes les cellules de code doivent être exécutées :\n",
    "- soit en cliquant sur le bouton \"Exécuter\" dans la barre d'outil\n",
    "- soit au clavier en tapant sur les touches MAJ + ENTREE  \n",
    "\n",
    "\n",
    "Pour récupérer votre travail sur votre ordinateur : menu File > Download As > Notebook (.ipynb)"
   ]
  },
  {
   "cell_type": "markdown",
   "metadata": {},
   "source": [
    "## Objectif\n",
    "L'objectif est de déterminer l'état final correspondant à la réaction suivante :\n",
    "2 S<sub>2</sub>O<sub>3</sub><sup>2-</sup> + I<sub>2</sub> --> S<sub>4</sub>O<sub>6</sub><sup>2-</sup> + 2 I <sup>-</sup>"
   ]
  },
  {
   "cell_type": "markdown",
   "metadata": {},
   "source": [
    "## Programme incomplet et commenté"
   ]
  },
  {
   "cell_type": "code",
   "execution_count": null,
   "metadata": {},
   "outputs": [],
   "source": [
    "especes=[\"S2O32-\",\"I2\",\"S4O62-\",\"I-\"] # les espèces chimiques sont entrées sous forme de liste\n",
    "\n",
    "coefficients=[2, 1, 1, 2] # les nombres stoechiométriques sont entrés sous forme de liste\n",
    "\n",
    "etat_init = [0.05, 0.25, 0., 0.] #quantites initiales en moles entrées sous forme de liste\n",
    "\n",
    "# calcul de xmax si le premier élément de la liste  est le réactif limitant\n",
    "xmax1=etat_init[0]/coefficients[0] # etat_init[0] correspond au premier élément de la liste \n",
    "\n",
    "print(\"Si\", especes[0], \"est limitant, xmax=\",xmax1 , \"mmol\") # affichage de la valeur de xmax si le premier élément de la lsite est limitant\n",
    "\n",
    "\n"
   ]
  },
  {
   "cell_type": "markdown",
   "metadata": {},
   "source": [
    "<div class = \"alert alert-info\">\n",
    "    \n",
    "### question 1   : afficher la valeur de la quantité de matière du second élément de la liste\n",
    "Ecrire la ligne de programme ci dessous permettant d'afficher la valeur de la quantité de matière initiale en I2\n",
    "Rappel : la liste est numérotée à partir de l'indice 0"
   ]
  },
  {
   "cell_type": "code",
   "execution_count": 27,
   "metadata": {},
   "outputs": [],
   "source": [
    "#affichage de la quantité de matière initial du seond élément de la liste \n"
   ]
  },
  {
   "cell_type": "markdown",
   "metadata": {},
   "source": [
    "<div class = \"alert alert-info\">\n",
    "    \n",
    "### question 2    : calcul de xmax dans l'hypothèse où la seconde espèce est le ractif limitant\n",
    "Ecrire la ligne de programme ci dessous permettant de calculer et d'afficher la valeur de xmax notée xmax2  si  I2 est le réactif limitant"
   ]
  },
  {
   "cell_type": "code",
   "execution_count": null,
   "metadata": {},
   "outputs": [],
   "source": []
  },
  {
   "cell_type": "markdown",
   "metadata": {},
   "source": [
    "##  Détermination du réactif limitant\n",
    " \n",
    "Le réactif limitant correspond à la plus petite valeur de xmax. Il y a de plus le cas où les deux réactifs limitant. Il y a donc trois possibilités : xmax1 <xmax2, xmax1>xmax2 et xmax1=xmax2. \n",
    "Il faut donc utilise la structure conditionnnel\n",
    "``` python\n",
    "\n",
    "if condition 1:\n",
    "   si condition 1 vraie faire ceci\n",
    "elif condition 2:\n",
    "   si condition 1 fausse et condition2 faire cela\n",
    "else :\n",
    "   si conditions 1 et 2 fausses faire cela\n",
    "      \n",
    "\n",
    "``` \n",
    "\n",
    "    "
   ]
  },
  {
   "cell_type": "markdown",
   "metadata": {},
   "source": [
    "<div class = \"alert alert-info\">\n",
    "    \n",
    "### question 3  : afficher le réactif limitant\n",
    "Compléter le programme pour afficher le réactif limitant"
   ]
  },
  {
   "cell_type": "code",
   "execution_count": null,
   "metadata": {},
   "outputs": [],
   "source": [
    "if xmax1<xmax2:\n",
    "    print(\"le réactif limitant est\",especes[0])\n",
    "elif \n",
    "    "
   ]
  },
  {
   "cell_type": "markdown",
   "metadata": {},
   "source": [
    "<div class = \"alert alert-info\">\n",
    "    \n",
    "### question 4  : afficher les quantité de matières à l'état final\n",
    "Compléter le programme pour afficher  les quantité de matières à l'état final"
   ]
  },
  {
   "cell_type": "code",
   "execution_count": null,
   "metadata": {},
   "outputs": [],
   "source": [
    "print (\"Quantités de matière à l'état final\")\n",
    "xmax=min(xmax1,xmax2)\n",
    "print (\"la valeur de xmax est\", xmax,\"mmol\")\n"
   ]
  },
  {
   "cell_type": "markdown",
   "metadata": {},
   "source": [
    "<div class = \"alert alert-info\">\n",
    "    \n",
    "### question 5  : Changement des quantités de matières initiales\n",
    "Modifier l'état initial (mélanges 2 et 3 du TP).\n",
    "Exécuter chaque cellule pour afficher l'état final"
   ]
  }
 ],
 "metadata": {
  "kernelspec": {
   "display_name": "Python 3",
   "language": "python",
   "name": "python3"
  },
  "language_info": {
   "codemirror_mode": {
    "name": "ipython",
    "version": 3
   },
   "file_extension": ".py",
   "mimetype": "text/x-python",
   "name": "python",
   "nbconvert_exporter": "python",
   "pygments_lexer": "ipython3",
   "version": "3.7.3"
  }
 },
 "nbformat": 4,
 "nbformat_minor": 2
}

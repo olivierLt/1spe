{
 "cells": [
  {
   "cell_type": "markdown",
   "metadata": {},
   "source": [
    "# Description d'un mouvement"
   ]
  },
  {
   "cell_type": "markdown",
   "metadata": {},
   "source": [
    "Un notebook se lit de haut en bas. Toutes les cellules de code doivent être exécutées :\n",
    "- soit en cliquant sur le bouton \"Exécuter\" dans la barre d'outil\n",
    "- soit au clavier en tapant sur les touches MAJ + ENTREE  \n",
    "\n",
    "\n",
    "Pour récupérer votre travail sur votre ordinateur : menu File > Download As > Notebook (.ipynb)"
   ]
  },
  {
   "cell_type": "markdown",
   "metadata": {},
   "source": [
    "## Objectifs\n",
    "\n",
    "* Savoir tracer une courbes en nuage de points en python afin d'obtenir la trajectoire d'un mouvement.\n",
    "* Représenter des vecteurs vitesse et des vecteurs variation de vecteurs vitesse d’un système modélisé par un point lors d’un mouvement en python"
   ]
  },
  {
   "cell_type": "markdown",
   "metadata": {},
   "source": [
    "## Présentation du contexte\n",
    "\n",
    "Vénus est une des quatre planètes telluriques du Système solaire. Elle est la deuxième planète par ordre d'éloignement au Soleil, et la sixième par masse ou par taille décroissantes (la Terre est la troisième plus proche et la cinquième plus grande, tant en taille qu'en masse).\n",
    "\n",
    "On étudie le mouvement du centre de Vénus dans le référentiel héliocentrique : on a enregistré les position du centre de Vénus tous les t=10 jours dans un fichier nommé venus.csv. L'origine du repère correspond au centre du soleil."
   ]
  },
  {
   "cell_type": "markdown",
   "metadata": {},
   "source": [
    "## Récupération des données\n",
    "\n",
    "On récupère les données t, x y à l'aide d'un export de pointage de vidéos\n",
    "\n",
    "Les données sont en mémoire dans des listes python appelées t, x et y"
   ]
  },
  {
   "cell_type": "markdown",
   "metadata": {},
   "source": [
    " <div class = \"alert alert-info\">\n",
    "    \n",
    "\n",
    " Exécuter le programme ci-dessous"
   ]
  },
  {
   "cell_type": "code",
   "execution_count": null,
   "metadata": {},
   "outputs": [],
   "source": [
    "#ouverture du fichier contenant les données de trajectoire\n",
    "#le fichier doit être dans le même dossier que le notebook\n",
    "name=\"venus.csv\"\n",
    "\n",
    "sep = \";\" #caractère séparateur du csv -peut être une virgule, un point-virgule ou une tabulation noté \\t \n",
    "entete = 1 #nombre de lignes d'entete\n",
    "\n",
    "f = open(name,\"r\")\n",
    "data = f.readlines() #on lit toutes les lignes et on met ça dans une liste -un élément par ligne-\n",
    "f.close() #on referme le fichier\n",
    "\n",
    "data = data[ entete : ] #on supprime les lignes d'en-tête qui ne nous intéressent pas\n",
    "\n",
    "#on construit les listes de valeurs utiles\n",
    "# les données du fichier texte sont de la forme t x y (adapter les lignes ci-dessous sinon)\n",
    "t = [] \n",
    "x = []\n",
    "y = []\n",
    "for ligne in data:\n",
    "    ligne = ligne.replace(\",\" , \".\") #change les virgules en point => format numérique différent sur excel et sur python\n",
    "    ligne = ligne.strip().split(sep) #on sépare les différents élément en utilisant le caractère séparateur défini\n",
    "    ligne = list(map(float,ligne)) #on convertit chaque élément en float\n",
    "    #on rentre les valeurs dans les listes adaptées\n",
    "    t.append(ligne[0]) #premier élément de la ligne = t\n",
    "    x.append(ligne[1]) # second élément de la ligne = x\n",
    "    y.append(ligne[2]) # dernier élément de la ligne = y\n",
    "\n",
    "#affichage des listes\n",
    "print(\"t=\",t)\n",
    "print(\"x=\",x)\n",
    "print(\"y=\",y)"
   ]
  },
  {
   "cell_type": "markdown",
   "metadata": {},
   "source": [
    "## Tracé de la courbe"
   ]
  },
  {
   "cell_type": "markdown",
   "metadata": {},
   "source": [
    "## Principe du tracé d'une courbe en python\n",
    "\n",
    "On utilise la méthode `plot`qui permet de tracer des courbes ou des nuages de points. \n",
    "Il suffit de disposer de deux listes de même taille, l'une correspondant aux valeurs de l'abscisse, l'autre aux valeurs de l'ordonnée. "
   ]
  },
  {
   "cell_type": "markdown",
   "metadata": {},
   "source": [
    " <div class = \"alert alert-info\">\n",
    "    \n",
    "\n",
    "1. Exécuter le programem\n",
    "2.  Modifier le programme\n",
    "    1. Changer les échelles en x et y\n",
    "    2. Changer les titres et légende\n",
    "    3. Modifier le style du tracé : voir le lien https://phychim.ac-versailles.fr/IMG/pdf/tuto_python_matplotlib.pdf"
   ]
  },
  {
   "cell_type": "code",
   "execution_count": null,
   "metadata": {},
   "outputs": [],
   "source": [
    "import matplotlib.pyplot as plt\n",
    "\n",
    "absc = [10, 11, 13, 15, 18, 20, 22]  # les valeurs en abscisse sous forme de liste  \n",
    "ordo = [1, 3, 5, 8, 5, 1, 7] # les valeurs en ordonnée sous forme de liste\n",
    "\n",
    "plt.figure(figsize=(5,5)) # taille du graphique (en pouces)\n",
    "\n",
    "plt.xlim([5,25]) # échelle en x\n",
    "\n",
    "plt.ylim([0,10]) # échelle en y\n",
    "\n",
    "plt.plot(absc, ordo, color = 'r', marker = '>', linestyle = ':') #On peut ajouter différents attributs, comme la couleur, le style de trait, le style de point.\n",
    "plt.title(\"évolution de la température\") #titre du graphique\n",
    "plt.xlabel(\"x en °C\") # légende de l'axe des abscisses\n",
    "plt.ylabel(\"y en minutes\") # légende de l'axe des oordonnées\n",
    "\n",
    "\n",
    "plt.show() # affiche le graphique"
   ]
  },
  {
   "cell_type": "markdown",
   "metadata": {},
   "source": [
    "<div class = \"alert alert-info\">\n",
    "Tracer la trajectoire en nuage de point, c'est à dire y (en ordonnée) en fonction de x (en abscisse)  avec le titre des axes et le titre du graphique.  \n",
    "    \n",
    "La taille du graphique sera un carré de 10 pouces de côté"
   ]
  },
  {
   "cell_type": "code",
   "execution_count": 3,
   "metadata": {},
   "outputs": [],
   "source": [
    "# Tracé de la trajectoire de Vénus\n"
   ]
  },
  {
   "cell_type": "markdown",
   "metadata": {},
   "source": [
    "## Tracé de vecteurs vitesses"
   ]
  },
  {
   "cell_type": "markdown",
   "metadata": {},
   "source": [
    "## Tracé de vecteurs"
   ]
  },
  {
   "cell_type": "markdown",
   "metadata": {},
   "source": [
    "On utilise la commande `quiver` pour tracer un vecteur. Le programme ci-dessous permet de tracer un vecteur de coordonnées (1,2) au point de coordonnée (3,4).\n"
   ]
  },
  {
   "cell_type": "markdown",
   "metadata": {},
   "source": [
    " <div class = \"alert alert-info\">\n",
    "    \n",
    "\n",
    "1. Exécuter le programme ci-dessous \n",
    "    \n",
    "2. Modifier les valeurs et éxécuter à nouveau le programme pour comprendre comment il fonctionne.    \n",
    "    1. Modifier la position du vecteur\n",
    "    2. Modifier les coordonnées du vecteur\n",
    "    3. Modifier les échelles"
   ]
  },
  {
   "cell_type": "code",
   "execution_count": null,
   "metadata": {},
   "outputs": [],
   "source": [
    "import matplotlib.pyplot as plt\n",
    "\n",
    "plt.axes(aspect='equal') # permet d'avoir un repère orthonormé\n",
    "\n",
    "plt.grid()\n",
    "\n",
    "plt.xlim([0,10]) # échelle en x\n",
    "\n",
    "plt.ylim([0,10]) # échelle en y\n",
    "\n",
    "#tracé d'un vecteur de coordonnées (1,2) au point de coordonnées(3,4)\n",
    "plt.quiver(3, 4, 1, 2, units='dots', angles=\"xy\", scale_units='xy', scale=1, label=\"Exemple de vecteur\",color=\"green\")\n",
    "\n",
    "plt.legend() # affiche la légende\n",
    "\n",
    "\n",
    "plt.show()"
   ]
  },
  {
   "cell_type": "markdown",
   "metadata": {},
   "source": [
    "##  Tracé de vecteurs avec échelle"
   ]
  },
  {
   "cell_type": "markdown",
   "metadata": {},
   "source": [
    "Le problème en physique est que la norme du vecteur (= \"sa taille\") est lié à la grandeur physique qu'il représente. Par exemple la norme d'un vecteur vitesse est proportionnelle à la valeur de la vitesse. Il faut donc indiquer explicitement l'échelle sur le graphique.\n",
    "\n",
    "On veut représenter un vecteur vitesse verticale vers le bas à un point de coordonnée (8,4) telle que la  vitesse vaut V=15m/s \n",
    "\n",
    "On veut que une vitesse de 10m/s soit représentée par un vecteur de norme (= sa  taille) correspondant à 2m sur le graphique"
   ]
  },
  {
   "cell_type": "markdown",
   "metadata": {},
   "source": [
    " <div class = \"alert alert-info\">\n",
    "    \n",
    "\n",
    " 1. Exécuter le programme ci-dessous \n",
    "    \n",
    " 2. Modifier les valeurs et éxécuter à nouveau le programme pour comprendre comment il fonctionne :\n",
    "    1. tracer un vecteur de coordonnées (5,20) au point de coordonnées (2,4)\n",
    "    2. changer la légende\n",
    "    2. changer l'échelle de représentation des vecteurs: 10m/s correspond à une taille de 1m sur le graphique"
   ]
  },
  {
   "cell_type": "code",
   "execution_count": null,
   "metadata": {},
   "outputs": [],
   "source": [
    "\n",
    "import matplotlib.pyplot as plt\n",
    "\n",
    "plt.axes(aspect='equal')\n",
    "\n",
    "\n",
    "plt.grid()\n",
    "\n",
    "plt.xlim([0,10]) # échelle en x\n",
    "\n",
    "plt.ylim([0,10]) # échelle en y\n",
    "\n",
    "# échelle de représentation des vecteurs : on veut que 10m/s  correspond à une taille de 2m sur le graphique \n",
    "echelle_vecteur=10\n",
    "echelle_carreau=2\n",
    "\n",
    "#tracé du vecteur de coordonnées (0,15) au point de coordonnées(8,4) \n",
    "plt.quiver(8, 4, 0, -15, units='dots', angles=\"xy\", scale_units='xy', scale=echelle_vecteur /echelle_carreau, label=\"vitesse\",color=\"green\")\n",
    "\n",
    "#tracé du vecteur représentant l'échelle\n",
    "plt.quiver(6, 6,echelle_carreau,0, units='dots', angles=\"xy\", scale_units='xy', scale=1, label=\"échelle \") # vecteur représenrtnt l'échelle\n",
    "\n",
    "# affichage de la lettre v avec une flêche à côté du vecteur vitesse\n",
    "plt.text(7,3, \"$\\overrightarrow{v}$\") \n",
    "\n",
    "plt.text(6.5,5.5,str(echelle_vecteur)+\"m/s\") # valeur du vecteur échelle\n",
    "\n",
    "\n",
    "\n",
    "plt.legend() # affiche la légende\n",
    "\n",
    "plt.xlabel(\"x en m\")\n",
    "plt.ylabel(\"y en m \")\n",
    "\n",
    "\n",
    "\n",
    "plt.show()"
   ]
  },
  {
   "cell_type": "markdown",
   "metadata": {},
   "source": [
    "## Calcul de la vitesse\n",
    "\n",
    "La vitesse au point M se calcule à partir des valeurs de  $\n",
    "M \n",
    "\\begin{pmatrix}\n",
    "x \\\\\n",
    "y \\\\\n",
    "\\end{pmatrix}\n",
    "$ et de la position suivante $ M' \n",
    "\\begin{pmatrix}\n",
    "x' \\\\\n",
    "y' \\\\\n",
    "\\end{pmatrix}\n",
    "$.\n",
    "\n",
    "Comme la formule de la vitesse est :  $ \\overrightarrow v =   \\dfrac { \\overrightarrow {MM'}} {  t'-t }  $ , $\n",
    "\\overrightarrow v \n",
    "\\begin{pmatrix}\n",
    "\\dfrac{x'-x}{t'-t} \\\\\n",
    "\\dfrac{y'-y}{t'-t} \\\\\n",
    "\\end{pmatrix}\n",
    "$\n",
    "\n",
    "L'abscisse de $ \\overrightarrow v $ est notée vx, l'ordonnée vy.\n",
    "Donc $ v_x= \\dfrac {x'-x} {t'-t} $ et $ v_y= \\dfrac {y'-y} {t'-t} $\n",
    "\n",
    "De plus les valeurs de x et y sont dans des listes. Pour repérer un élément dans la liste, il faut écrire par exemple x\\[1\\] qui correspond au deuxième élément de la liste x car la liste est numéroté à partir du rang 0.\n",
    "\n",
    "Donc  $ v_x[i]=\\dfrac {x [i+1]-x[i]} {t[i+1] - t[i]} $ et $ v_y[i]=\\dfrac {y [i+1]-y[i]} {t[i+1]-t[i]} $\n",
    "\n",
    "$ t[i+1] - t[i] $ correspond à la durée entre deux positions successives ( = $ \\Delta t $)"
   ]
  },
  {
   "cell_type": "markdown",
   "metadata": {},
   "source": [
    " <div class = \"alert alert-info\">\n",
    "    \n",
    "\n",
    " 1. Exécuter le programme ci-dessous\n",
    " 2. Compléter la ligne pour calculer l'ordonnée du vecteur vitesse"
   ]
  },
  {
   "cell_type": "code",
   "execution_count": 5,
   "metadata": {},
   "outputs": [],
   "source": [
    "#calcul des coordonnées des vecteurs vitesse\n",
    "vx=[]\n",
    "vy=[]\n",
    "\n",
    "for i in range(len(y)-1): #len(y) correspond au nombre de valeur de la liste y. On utilise len(y)-1 car la liste est numérotée à partir du rang 0 jusqu'au rang len(y)-1 et qu'on utilise la valeur y[i+1] \n",
    "    vx.append((x[i+1]-x[i])/(t[i+1] - t[i])) # calcul de l'abscisse du vecteur vitesse \n",
    "# calcul de l'ordonnée du vecteur vitesse vitesse.\n",
    "     \n"
   ]
  },
  {
   "cell_type": "markdown",
   "metadata": {},
   "source": [
    "## Tracé du vecteur vitesse"
   ]
  },
  {
   "cell_type": "markdown",
   "metadata": {},
   "source": [
    " <div class = \"alert alert-info\">\n",
    "    \n",
    "\n",
    "1. Exécuter le programme ci-dessous\n",
    "2. Compléter le programme : tracé du vecteur vitesse aux points 6 ($ \\overrightarrow v[5] $) et 10 ($ \\overrightarrow v[9] $)\n",
    "3. Modifier l'échelle de représentation des vecteurs"
   ]
  },
  {
   "cell_type": "code",
   "execution_count": null,
   "metadata": {},
   "outputs": [],
   "source": [
    "# tracé de la trajectoire: y en fonction de x\n",
    "\n",
    "import matplotlib.pyplot as plt\n",
    "\n",
    "plt.figure(figsize=(10,10)) # taille du graphique (en pouces)\n",
    "\n",
    "plt.axes(aspect='equal')\n",
    "\n",
    "plt.grid()\n",
    "\n",
    "plt.plot(x, y, color = 'r', marker = '+', linestyle = ':') #On peut ajouter différents attributs, comme la couleur, le style de trait, le style de point.\n",
    "plt.title(\"trajectoire de Vénus\") #titre du graphique\n",
    "plt.xlabel(\"x en m\") # légende de l'axe des abscisses\n",
    "plt.ylabel(\"y en m \") # légende de l'axe des oordonnées\n",
    "\n",
    "\n",
    "# échelle de représentation des vecteurs: on veut que 0.5*10^5m/s  correspond à une taille de 0.5*10^11m sur le graphique \n",
    "echelle_vecteur=0.5*10**5\n",
    "echelle_carreau=0.5*10**11\n",
    "\n",
    "#tracé du vecteur vitesse au point 2\n",
    "plt.quiver(x[1], y[1], vx[1], vy[1], units='dots', angles=\"xy\", scale_units='xy', scale=echelle_vecteur /echelle_carreau, label=\"vitesse 2\",color=\"green\")\n",
    "plt.text(x[1], y[1], \"$\\overrightarrow{v}[1]$\")\n",
    "\n",
    "#tracé du vecteur vitesse au point 6\n",
    "\n",
    "\n",
    "#tracé du vecteur vitesse au point 10\n",
    "\n",
    "\n",
    "\n",
    "# vecteur représentant l'échelle\n",
    "plt.quiver(0, 0,echelle_carreau,0, units='dots', angles=\"xy\", scale_units='xy', scale=1, label=\"échelle \") \n",
    "plt.text(10**10,-10**10,str(echelle_vecteur)+\"m/s\") # valeur du vecteur échelle\n",
    "\n",
    "\n",
    "\n",
    "plt.legend() # affiche la légende\n",
    "\n",
    "\n",
    "\n",
    "plt.show() # affiche le graphique avec le vecteur\n",
    "\n"
   ]
  },
  {
   "cell_type": "markdown",
   "metadata": {},
   "source": [
    "## Calcul de la variation de vitesse"
   ]
  },
  {
   "cell_type": "markdown",
   "metadata": {},
   "source": [
    "Pour tracer le vecteur variation de vecteur vitesse $ \\Delta \\overrightarrow v_M  $ dans python, il faut en calculer les coordonnées.\n",
    "\n",
    "Comme $ \\Delta \\overrightarrow v_M = \\overrightarrow v_M' - \\overrightarrow v_M $  , et $\n",
    "\\overrightarrow v \n",
    "\\begin{pmatrix}\n",
    "v_x \\\\\n",
    "v_y \\\\\n",
    "\\end{pmatrix}\n",
    "$, on a $\\Delta\\overrightarrow v_M \n",
    "\\begin{pmatrix}\n",
    "v_{xM'} - v_{xM} \\\\\n",
    "v_{yM'} - v_{yM} \\\\\n",
    "\\end{pmatrix}\n",
    "$\n",
    "\n",
    "**ATTENTION** : comme la numéroration de la liste commence à 0, le point Mi à pour coordonnées  $\\begin{pmatrix}\n",
    "x[i-1] \\\\\n",
    "y[i-1] \\\\\n",
    "\\end{pmatrix}\n",
    "$, donc par exemple le point 2 a pour coordonnées  $ M_2 \\begin{pmatrix}\n",
    "x_1 \\\\\n",
    "y_1 \\\\\n",
    "\\end{pmatrix}\n",
    "$"
   ]
  },
  {
   "cell_type": "markdown",
   "metadata": {},
   "source": [
    " <div class = \"alert alert-info\">\n",
    "    \n",
    "\n",
    "1. Exécuter le programme ci-dessous\n",
    "2. Compléter le programme : tracé du vecteur vitesse aux points 6 ($ \\Delta \\overrightarrow v[5] $) et 10 ($ \\Delta\\overrightarrow v[9] $)\n",
    "3. Modifier l'échelle de représentation des vecteurs"
   ]
  },
  {
   "cell_type": "code",
   "execution_count": null,
   "metadata": {},
   "outputs": [],
   "source": [
    "# tracé de la trajectoire: y en fonction de x\n",
    "\n",
    "import matplotlib.pyplot as plt\n",
    "\n",
    "plt.figure(figsize=(10,10)) # taille du graphique (en pouces)\n",
    "\n",
    "plt.axes(aspect='equal')\n",
    "\n",
    "plt.grid()\n",
    "\n",
    "\n",
    "plt.plot(x, y, color = 'r', marker = '+', linestyle = ':') #On peut ajouter différents attributs, comme la couleur, le style de trait, le style de point.\n",
    "plt.title(\"trajectoire de Vénus\") #titre du graphique\n",
    "plt.xlabel(\"x en m\") # légende de l'axe des abscisses\n",
    "plt.ylabel(\"y en m \") # légende de l'axe des oordonnées\n",
    "\n",
    "\n",
    "# échelle : on veut que 0.25*10^5m/s  correspond à une taille de 0.5*10^11m sur le graphique \n",
    "echelle_vecteur=0.25*10**5\n",
    "echelle_carreau=0.5*10**11\n",
    "\n",
    "\n",
    "\n",
    "#tracé variation du vecteur variation de vitesse au point 2 \n",
    "plt.quiver(x[1], y[1], vx[2]-vx[1], vy[2]-vy[1], units='dots', angles=\"xy\", scale_units='xy', scale=echelle_vecteur /echelle_carreau, label=\"variation vitesse 2\",color=\"red\")\n",
    "\n",
    "plt.text(x[1], y[1], \"$  \\Delta \\overrightarrow{v}[1]$\")\n",
    "\n",
    "\n",
    "#tracé variation du vecteur variation vitesse au point 6\n",
    "\n",
    "\n",
    "#tracé variation du vecteur variation vitesse au point 10\n",
    "\n",
    "\n",
    "\n",
    "# vecteur représentant l'échelle\n",
    "plt.quiver(0, 0,echelle_carreau,0, units='dots', angles=\"xy\", scale_units='xy', scale=1, label=\"échelle \") \n",
    "\n",
    "\n",
    "plt.text(10**10,-10**10,str(echelle_vecteur)+\"m/s\") # valeur du vecteur échelle\n",
    "\n",
    "\n",
    "\n",
    "plt.legend() # affiche la légende\n",
    "\n",
    "\n",
    "\n",
    "plt.show() # affiche le graphique avec le vecteur\n"
   ]
  },
  {
   "cell_type": "markdown",
   "metadata": {},
   "source": [
    "## Bonus 1 : tracé de la construction de $ \\Delta \\overrightarrow v_M $\n",
    "\n",
    "Pour tracer la construction de $ \\Delta \\overrightarrow v_M $, il faut tracer $  \\overrightarrow v_M' $ au point M (M' étant le point suivant M) et $ - \\overrightarrow v_M $ à l'extrémité de $  \\overrightarrow v_M'$ "
   ]
  },
  {
   "cell_type": "markdown",
   "metadata": {},
   "source": [
    "<div class = \"alert alert-info\">\n",
    "    \n",
    "\n",
    "1. Exécuter le programme ci-dessous\n",
    "2. Compléter le programme : tracé de la construction du vecteur variation de vitesse au points 6 "
   ]
  },
  {
   "cell_type": "code",
   "execution_count": null,
   "metadata": {},
   "outputs": [],
   "source": [
    "# tracé de la trajectoire: y en fonction de x\n",
    "\n",
    "import matplotlib.pyplot as plt\n",
    "\n",
    "plt.figure(figsize=(10,10)) # taille du graphique (en pouces)\n",
    "\n",
    "plt.axes(aspect='equal')\n",
    "\n",
    "plt.grid()\n",
    "\n",
    "\n",
    "plt.plot(x, y, color = 'r', marker = '+', linestyle = ':') #On peut ajouter différents attributs, comme la couleur, le style de trait, le style de point.\n",
    "plt.title(\"trajectoire de Vénus\") #titre du graphique\n",
    "plt.xlabel(\"x en m\") # légende de l'axe des abscisses\n",
    "plt.ylabel(\"y en m \") # légende de l'axe des oordonnées\n",
    "\n",
    "\n",
    "# échelle de représentation des vecteurs: on veut que 0.25*10^5m/s  correspond à une taille de 0.5*10^11m sur le graphique \n",
    "echelle_vecteur=0.25*10**5\n",
    "echelle_carreau=0.5*10**11\n",
    "\n",
    "\n",
    "#tracé du vecteur vitesse -v2 à l'extrémité du vecteur v3 : il faut faire attention au problème d'échelle pour placer l'origine de -v2 à l'extrémité de v3\n",
    "plt.quiver(x[1]+vx[2]*echelle_carreau /echelle_vecteur, y[1]+vy[2]*echelle_carreau /echelle_vecteur, -vx[1], -vy[1], units='dots', angles=\"xy\", scale_units='xy', scale=echelle_vecteur /echelle_carreau, label=\"vitesse 2\",color=\"green\")\n",
    "plt.text(x[1]- echelle_carreau/2, y[1], \"$ -\\overrightarrow{v}[1]$\")\n",
    "\n",
    "#tracé du vecteur vitesse  3 au point 2\n",
    "plt.quiver(x[1], y[1], vx[2], vy[2], units='dots', angles=\"xy\", scale_units='xy', scale=echelle_vecteur /echelle_carreau, label=\"vitesse 3\",color=\"green\")\n",
    "\n",
    "plt.text(x[2]- echelle_carreau/2, y[2]+ echelle_carreau/2, \"$\\overrightarrow{v}[2]$\")\n",
    "\n",
    "#tracé variation du vecteur vitesse au point 2\n",
    "plt.quiver(x[1], y[1], vx[2]-vx[1], vy[2]-vy[1], units='dots', angles=\"xy\", scale_units='xy', scale=echelle_vecteur /echelle_carreau, label=\"variation vitesse 2\",color=\"red\")\n",
    "\n",
    "plt.text(x[1], y[1], \"$  \\Delta \\overrightarrow{v}[1]$\")\n",
    "\n",
    "\n",
    "\n",
    "\n",
    "# vecteur représentant l'échelle\n",
    "plt.quiver(0, 0,echelle_carreau,0, units='dots', angles=\"xy\", scale_units='xy', scale=1, label=\"échelle \") \n",
    "\n",
    "\n",
    "plt.text(10**10,-10**10,str(echelle_vecteur)+\"m/s\") # valeur du vecteur échelle\n",
    "\n",
    "\n",
    "\n",
    "plt.legend() # affiche la légende\n",
    "\n",
    "\n",
    "\n",
    "plt.show() # affiche le graphique avec le vecteur"
   ]
  },
  {
   "cell_type": "markdown",
   "metadata": {},
   "source": [
    "## bonus 2 : calcul de la masse du soleil\n",
    "\n",
    "On admet (hors programme) que la variation de vitesse est constante dans un mouvement circulaire uniforme. Pour plus de précision, on calcule la moyenne des valeurs de variation des vitesses.\n",
    "\n",
    "Il faut donc d'abord calculer les coordonnées des vecteurs variations vecteur vitesse à partir des coordonnées de vecteurs vitesse, en créant 2 listes (une pour chaque coordonnées), puis créer une liste pour calculer la valeur de la variation de la vitesse.\n",
    "\n",
    "La valeur de la variation de la vitesse correspond à la norme du vecteur variation de vitesse.\n",
    "\n",
    "Ensuite, on peut calculer la masse du soleil grâce à la relation entre la valeur de la variation de la vitesse et la somme des forces. \n",
    "\n",
    "On a $ \\dfrac {\\Delta V} {\\Delta t} =  \\dfrac {G \\times M_S} {d^2} $ , d'où $ M_S = d^2 \\times \\dfrac {\\Delta V} {\\Delta t \\times G} $ avec $ \\Delta V = norme\\, de\\, \\Delta \\overrightarrow v $ \n",
    "\n",
    "Comme $ \\Delta \\overrightarrow v \n",
    "\\begin{pmatrix}\n",
    "\\Delta v_x \\\\\n",
    "\\Delta v_y \\\\\n",
    "\\end{pmatrix}\n",
    "$ , $\\Delta V = \\sqrt{ \\Delta v_x^2 + \\Delta v_y^2 } $\n",
    "\n",
    "Remarque : la valeur de la masse du soleil est $M=2,0 \\times 10^{30} kg$\n"
   ]
  },
  {
   "cell_type": "markdown",
   "metadata": {},
   "source": [
    "<div class = \"alert alert-info\">\n",
    "    \n",
    "\n",
    "1. Exécuter le programme ci-dessous\n",
    "2. Compléter le programme : calcul etr affichage de la masse du soleil"
   ]
  },
  {
   "cell_type": "code",
   "execution_count": null,
   "metadata": {},
   "outputs": [],
   "source": [
    "#données\n",
    "d=1.1*10**11 # distance terre Vénus en m\n",
    "G=6.67*10**(-11)# constante gravitationnelle\n",
    "Dt=10*24*3600 #durée entre deux positions successives\n",
    "\n",
    "#calcul des coordonnées de la variation du vecteur vitesse\n",
    "Dvx=[]\n",
    "Dvy=[]\n",
    "for i in range(len(y)-3): #len(y) correspond au nombre de valeur de la liste y. On utilise len(y)-3 car la liste est numérotée à partir du rang 0 et qu'on utilise la valeur y[i+1] \n",
    "    Dvx.append((vx[i+1]-vx[i])) # calcul de l'abscisse de la vitesse \n",
    "    Dvy.append((vy[i+1]-vy[i])) # calcul de l'ordonnée de la vitesse.\n",
    "#print(\"Dvx=\",Dvx)\n",
    "#print(\"Dvy=\",Dvy)\n",
    "\n",
    "\n",
    "#moyenne des valeurs des variations de vitesse\n",
    "from math import sqrt\n",
    "Dv=[]\n",
    "for i in range(len(y)-3):\n",
    "    Dv.append(sqrt(Dvx[i]**2+Dvy[i]**2))  # sqrt =calcul de la racine carrée\n",
    "som=0\n",
    "for i in range(len(Dv) -1):\n",
    "    som=som+Dv[i]\n",
    "moyenne_Dv=som/len(Dv)\n",
    "#print(\"Dv=\",Dv)\n",
    "print(\"La moyenne de la variation de la vitesse vaut\",moyenne_Dv,\"m/s\")\n",
    "\n",
    "#calcul de la masse du soleil\n",
    "\n",
    "\n",
    "#affichage de la masse du soleil\n",
    "\n",
    "\n"
   ]
  },
  {
   "cell_type": "code",
   "execution_count": null,
   "metadata": {},
   "outputs": [],
   "source": []
  }
 ],
 "metadata": {
  "kernelspec": {
   "display_name": "Python 3",
   "language": "python",
   "name": "python3"
  },
  "language_info": {
   "codemirror_mode": {
    "name": "ipython",
    "version": 3
   },
   "file_extension": ".py",
   "mimetype": "text/x-python",
   "name": "python",
   "nbconvert_exporter": "python",
   "pygments_lexer": "ipython3",
   "version": "3.7.3"
  }
 },
 "nbformat": 4,
 "nbformat_minor": 4
}

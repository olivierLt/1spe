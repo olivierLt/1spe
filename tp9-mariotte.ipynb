{
 "cells": [
  {
   "cell_type": "markdown",
   "metadata": {},
   "source": [
    "# Tracer une courbe en python \n",
    "\n",
    "Un notebook se lit de haut en bas. Toutes les cellules de code doivent être exécutées :\n",
    "\n",
    "    soit en cliquant sur le bouton \"Exécuter\" dans la barre d'outil\n",
    "    soit au clavier en tapant sur les touches MAJ + ENTREE\n",
    "\n",
    "Pour récupérer votre travail sur votre ordinateur : menu File > Download As > Notebook (.ipynb)\n"
   ]
  },
  {
   "cell_type": "markdown",
   "metadata": {},
   "source": [
    "Pour afficher une courbe, on utilisera la bibliothèque matplotlib, très complète. Vous pouvez aller voir quelques exemples sur la page de la bibliothèque [ici]( https://matplotlib.org/tutorials/introductory/pyplot.html#sphx-glr-tutorials-introductory-pyplot-py).\n",
    "\n",
    "\n",
    "L'objectif de ce notebook est de tracer y en fonction de x (courbe ou nuage de points) dans un premier temps et de tracer la droite modèle dans le cas où les points sont alignés (et de trouver l'équation de cette droite).\n",
    "\n",
    "Pour cela , on va utiliser la méthode `Plot`.\n",
    "\n",
    "Il faut commencer par importer la bibliothèque matplotlib.pyplot grâce à la commande"
   ]
  },
  {
   "cell_type": "code",
   "execution_count": null,
   "metadata": {},
   "outputs": [],
   "source": [
    "import matplotlib.pyplot as plt #cette commande permet d'importer la bibliothèse matplotlibe et doit être placée au début du fichier"
   ]
  },
  {
   "cell_type": "markdown",
   "metadata": {},
   "source": [
    "## Partie I  : tracer une courbe à partir d'une série de valeurs \n",
    "\n",
    "Il suffit  de disposer de deux listes de même taille, l'une correspondant aux valeurs de x, l'autre aux valeurs de Y. "
   ]
  },
  {
   "cell_type": "markdown",
   "metadata": {},
   "source": [
    " <div class = \"alert alert-info\">\n",
    "    \n",
    "**Exemple**\n",
    "\n",
    " Exécuter le programme ci-dessous"
   ]
  },
  {
   "cell_type": "code",
   "execution_count": null,
   "metadata": {},
   "outputs": [],
   "source": [
    "import matplotlib.pyplot as plt\n",
    "\n",
    "ordo = [5, 3, 5, 3, 5, 1, 7]\n",
    "absc = [10, 10, 14, 13, 18, 20, 22]       \n",
    "\n",
    "plt.plot(absc, ordo, color = 'r', marker = '>', linestyle = ':') #On peut ajouter différents attributs, comme la couleur, le style de trait, le style de point.\n",
    "\n",
    "plt.show() # affiche le graphique"
   ]
  },
  {
   "cell_type": "markdown",
   "metadata": {},
   "source": [
    "## Quelques attributs ##\n",
    "### **Pour la couleur :**\n",
    "\n",
    "'b'     blue,\n",
    "'g' \tgreen,\n",
    "'r' \tred,\n",
    "'c' \tcyan,\n",
    "'m' \tmagenta,\n",
    "'y' \tyellow,\n",
    "'k' \tblack,\n",
    "'w' \twhite.\n",
    "\n",
    "\n",
    "### **Pour les marqueurs de points :**\n",
    "\n",
    "'.' \tpoint    ,   \n",
    "',' \tpixel    ,   \n",
    "'o' \tcercle    ,   \n",
    "'v' \ttriangle bas   ,  \n",
    "'^' \ttriangle haut   ,  \n",
    "'<' \ttriangle gauche   ,  \n",
    "'>' \ttriangle droit   ,  \n",
    "'1' \taccent circonflexe bas    ,  \n",
    "'2' \taccent circonflexe haut    ,  \n",
    "'3' \taccent circonflexe gauche    ,  \n",
    "'4' \taccent circonflexe droit    ,  \n",
    "'s' \tcarré   ,  \n",
    "'p' \tpentagone   ,  \n",
    "'\\*' \tétoile   ,  \n",
    "'h' \thexagone 1   ,  \n",
    "'H' \thexagone 2   ,  \n",
    "'+' \tplus   ,  \n",
    "'x' \tx    ,  \n",
    "'D' \tdiamant   ,   \n",
    "'d' \tpetit diamant   ,  \n",
    "'|' \ttrait vertical   ,  \n",
    "'\\_' \ttrait horizontal   ,  \n",
    "**' '   aucun marquer de point (courbe uniquement).**\n",
    "\n",
    "\n",
    "### **Pour les tracés de ligne :**\n",
    "\n",
    "'-' \tligne pleine,  \n",
    "'--' \tligne discontinue,  \n",
    "'-.' \tligne discontinue et pointillée,  \n",
    "':' \tligne pointillée.  \n",
    "**' '     auncune ligne (nuage de points)**"
   ]
  },
  {
   "cell_type": "markdown",
   "metadata": {},
   "source": [
    "## Elements supplémentaires\n",
    "Le titre du graphique : commande  `title`\n",
    "Un texte sur chaque axe  : commande `xlabel` et `ylabel` \n",
    "\n",
    "**Remarque**: plt.xlabel est le nom d'une fonction. Même si la liste mise en abscisses est le temps, cette fonction conserve son nom!)"
   ]
  },
  {
   "cell_type": "markdown",
   "metadata": {},
   "source": [
    " <div class = \"alert alert-info\">\n",
    "    \n",
    "**Exemple**\n",
    "\n",
    " Exécuter le programme ci-dessous et modifier quelques attributs (marqueurs de points , tracés de ligne, ..)."
   ]
  },
  {
   "cell_type": "code",
   "execution_count": null,
   "metadata": {},
   "outputs": [],
   "source": [
    "import matplotlib.pyplot as plt\n",
    "\n",
    "ordo = [5, 3, 5, 3, 5, 1, 7]\n",
    "absc = [10, 10, 14, 13, 18, 20, 22]       \n",
    "\n",
    "plt.plot(absc, ordo, color = 'g', marker = '+', linestyle = '--')\n",
    "plt.title(\"titre du graphique\")\n",
    "plt.xlabel(\"x en m\")\n",
    "plt.ylabel(\"y en m\")\n",
    "plt.show()"
   ]
  },
  {
   "cell_type": "markdown",
   "metadata": {},
   "source": [
    "## Application : la loi de Mariotte\n",
    "\n",
    "On dispose de deux série de valeurs correspondant à la pression (en hPa) et au volume (en mL) d'air contenu dans une seringue.\n",
    "Les valeurs sont données dans un tableau :\n",
    "\n",
    "<p class=\"text-center\">\n",
    "    \n",
    "| P(hPa)  | V(mL) | \n",
    "| :-----: |:-----:| \n",
    "|   1480   |  40  | \n",
    "|  1310    | 45   |  \n",
    "|  1189    | 50   |  \n",
    "|  1086    | 55   | \n",
    "|  993     | 60   |  \n",
    "\n",
    "</p>"
   ]
  },
  {
   "cell_type": "markdown",
   "metadata": {},
   "source": [
    " <div class = \"alert alert-info\">\n",
    "Tracer la courbe en nuage de point P (hPa) en fonction de V (mL) avec le titre des axes et le titre du graphique"
   ]
  },
  {
   "cell_type": "code",
   "execution_count": 6,
   "metadata": {},
   "outputs": [],
   "source": [
    "# code pour tracer le graphique P(hPa) en fonction de V(mL)"
   ]
  },
  {
   "cell_type": "markdown",
   "metadata": {},
   "source": [
    "Le problème est que pour illustrer la loi de Mariotte il faut tracer P en fonction de 1/V.\n",
    "Il faut donc créer une liste correspondant aux valeurs de 1/V à partir de la liste V.\n",
    "Pour cela, on va utiliser  les listes en compréhension."
   ]
  },
  {
   "cell_type": "markdown",
   "metadata": {},
   "source": [
    "### Les listes en compréhension\n",
    "\n",
    " Une liste en compréhension est une liste définie par filtrage, ou opération terme à terme, sur le contenu d'une autre liste. \n",
    " "
   ]
  },
  {
   "cell_type": "markdown",
   "metadata": {},
   "source": [
    " <div class = \"alert alert-info\">\n",
    "    \n",
    " **exemple:** (pour d'autres exemples, voir [ici](http://xymaths.free.fr/Informatique-Programmation/python/listes.php#cppp) )\n",
    " \n",
    " Exécuter le programme ci-dessous , puis le modifier (en changeant l'opération mathématique, en changeant le nom des variables).\n",
    " "
   ]
  },
  {
   "cell_type": "code",
   "execution_count": null,
   "metadata": {},
   "outputs": [],
   "source": [
    "L=[0,1,2]\n",
    "N=[3*e+2 for e in L] # on va donc multiplier par 3 et ajouter 2 à chaque termes de la liste L notés e (on peut choisir n'importe quel nom pour nommer le terme) de la liste L \n",
    "print(N)"
   ]
  },
  {
   "cell_type": "markdown",
   "metadata": {},
   "source": [
    "Créer une liste notée inverV à partir de la liste des valeurs de V"
   ]
  },
  {
   "cell_type": "code",
   "execution_count": 26,
   "metadata": {},
   "outputs": [],
   "source": [
    "#code pour créer la liste inverV"
   ]
  },
  {
   "cell_type": "code",
   "execution_count": null,
   "metadata": {},
   "outputs": [],
   "source": []
  },
  {
   "cell_type": "markdown",
   "metadata": {},
   "source": [
    "<div class = \"alert alert-info\">\n",
    "Tracer le graphique P(hpa) en fonction de 1/V en nuage de points avec le titre des axes et le titre du graphique"
   ]
  },
  {
   "cell_type": "code",
   "execution_count": 27,
   "metadata": {},
   "outputs": [],
   "source": [
    "# code pour tracer le graphique P(hPa) en fonction de 1/V(mL-1)"
   ]
  },
  {
   "cell_type": "markdown",
   "metadata": {},
   "source": [
    "## Partie II  : tracer une courbe à partir d'une équation\n",
    "\n",
    "L'objectif est de tracer la droite modèle superposée aux valeurs expérimentales.\n",
    "\n",
    "Pour cela on va créer la liste des valeurs Y à partir d'une liste des valeurs X grâce à une liste en compréhension"
   ]
  },
  {
   "cell_type": "markdown",
   "metadata": {},
   "source": [
    "<div class = \"alert alert-info\">\n",
    "    \n",
    "**Exemple**\n",
    "    \n",
    "On veut tracer la droite d'équation y=2x + 3\n",
    "\n",
    "Exécuter le programme ci-dessous , puis le modifier    "
   ]
  },
  {
   "cell_type": "code",
   "execution_count": null,
   "metadata": {},
   "outputs": [],
   "source": [
    "import matplotlib.pyplot as plt\n",
    "\n",
    "#on peut créer la liste x à la main ou la créer automatiquement avec les lignes de oprogramme suivantes\n",
    "x=[] # on crée une liste vide\n",
    "for i in range(11): # on fait varier i de 0 à 10\n",
    "    x.append(i) # on ajoute la valeur i à la liste x\n",
    "    \n",
    "y = [2*e+3 for e in x]       \n",
    "\n",
    "plt.grid()# trace une grille\n",
    "\n",
    "plt.xlim([0,10]) # échelle en x\n",
    "\n",
    "plt.ylim([0,25]) # échelle en y\n",
    "\n",
    "\n",
    "\n",
    "plt.plot(x, y, color = 'b', marker = '+', linestyle = '-', label=\"donnees\")\n",
    "plt.legend() # la legende\n",
    "plt.xlabel(\"x en m\")\n",
    "plt.ylabel(\"y en m\")\n",
    "plt.show()"
   ]
  },
  {
   "cell_type": "markdown",
   "metadata": {},
   "source": [
    "## Partie III Calcul de l'équation de la droite modèle\n",
    "\n",
    "Le but est de trouver l'équation de la droite y=ax+b correspondant aux valeurs expérimentales x et y qui correspondent à des listes de valeurs.\n",
    "\n",
    "On utilise la méthode des moindres carrés. Pour cela on va utiliser une fonction appelé `reglin()`créée dans le fichier regression_li.py (origine du programme [ici]( https://gsalvatovallverdu.gitlab.io/python/moindres-carres/ ) ) et qu'on importe grâce à la commande `from regression_li import * `\n",
    "\n",
    "En plus des paramètres a et b , on obtient également un paramètre noté r2 appelé coefficient de corrélation . r2 permet de savoir si la droite modèle est valable ou pas. Il faut que r2 soit le plus proche possible de 1 (on doit avoir r2>0,99)"
   ]
  },
  {
   "cell_type": "markdown",
   "metadata": {},
   "source": [
    "<div class = \"alert alert-info\">\n",
    "    \n",
    "**Exemple d'utilisation de la fonction reglin()**   \n",
    "\n",
    "Exécuter le programme ci-dessous "
   ]
  },
  {
   "cell_type": "code",
   "execution_count": null,
   "metadata": {},
   "outputs": [],
   "source": [
    "from regression_li import *\n",
    "x=[1.0, 2.0, 3.0, 4.0, 5.0, 6.0, 7.0, 8.0, 9.0, 10.0]#valeur expérimentale x\n",
    "y= [2.1, 2.9, 4.2, 5.05, 5.85, 6.95, 8.1, 9.0, 10.2, 10.9]\n",
    "a, b,r2 = regLin(x, y)\n",
    "print(\"a = \", a)\n",
    "print(\"b = \", b)\n",
    "print(\"r2 = \", r2)"
   ]
  },
  {
   "cell_type": "markdown",
   "metadata": {},
   "source": [
    "<div class = \"alert alert-info\">\n",
    "    \n",
    "Ecrire ci-dessous le programme permettant d'obtenir les paramètres de la droite modèle (c'est à dire a,b,r2) correspondant à la loi de Mariotte (donc avec 1/V en X et P en y)"
   ]
  },
  {
   "cell_type": "code",
   "execution_count": null,
   "metadata": {},
   "outputs": [],
   "source": [
    "# code pour obtenir les paramètres de la droite modèle (c'est à dire a,b,r2) correspondant à la loi de Mariotte"
   ]
  },
  {
   "cell_type": "markdown",
   "metadata": {},
   "source": [
    "<div class = \"alert alert-info\">\n",
    " \n",
    "Tracer sur le même graphique le nuage de points correspondant aux valeurs expérimentales de P et 1/V et la droite modèle en ajoutant une légende"
   ]
  },
  {
   "cell_type": "code",
   "execution_count": null,
   "metadata": {},
   "outputs": [],
   "source": [
    "# code pour tracer les deux graphiques"
   ]
  }
 ],
 "metadata": {
  "kernelspec": {
   "display_name": "Python 3",
   "language": "python",
   "name": "python3"
  },
  "language_info": {
   "codemirror_mode": {
    "name": "ipython",
    "version": 3
   },
   "file_extension": ".py",
   "mimetype": "text/x-python",
   "name": "python",
   "nbconvert_exporter": "python",
   "pygments_lexer": "ipython3",
   "version": "3.7.3"
  }
 },
 "nbformat": 4,
 "nbformat_minor": 4
}

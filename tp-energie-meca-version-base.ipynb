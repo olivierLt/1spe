{
 "cells": [
  {
   "cell_type": "markdown",
   "metadata": {},
   "source": [
    "# Analyse énergétique d'un mouvement"
   ]
  },
  {
   "cell_type": "markdown",
   "metadata": {},
   "source": [
    "Un notebook se lit de haut en bas. Toutes les cellules de code doivent être exécutées :\n",
    "- soit en cliquant sur le bouton \"Exécuter\" dans la barre d'outil\n",
    "- soit au clavier en tapant sur les touches MAJ + ENTREE  \n",
    "\n",
    "\n",
    "Pour récupérer votre travail sur votre ordinateur : menu File > Download As > Notebook (.ipynb)"
   ]
  },
  {
   "cell_type": "markdown",
   "metadata": {},
   "source": [
    "## Objectifs\n",
    "\n",
    "* pointage d'une vidéo\n",
    "* Savoir tracer une courbes en nuage de points en python \n",
    "* savoir manipuler des listes"
   ]
  },
  {
   "cell_type": "markdown",
   "metadata": {},
   "source": [
    "## Présentation du contexte\n",
    "\n",
    "Une personne lance un ballon vers le haut de telle sorte que le mouvement décrit par son centre d’inertie soit parabolique. Dès que le ballon est lâché, sa vitesse et son altitude par rapport au sol varient. Grâce à ces grandeurs mesurables, il est possible de faire une analyse en termes d’énergie.\n",
    "\n",
    "Question : Comment évolue l’énergie mécanique du ballon pendant la phase de montée ?"
   ]
  },
  {
   "cell_type": "markdown",
   "metadata": {},
   "source": [
    "## Récupération des données\n",
    "\n",
    "1. On récupère les données t, x y à l'aide d'un pointage des positions du ballon dans la vidéo à l'aide du logiciel Aviméca :\n",
    "    1. caractéristiques du pointage\n",
    "        - l'échelle est donnée grâce à la taille du poteau de volley (face au lanceur) :2,25m.\n",
    "        - placer les axes au centre du ballon de la première image\n",
    "        - pointer le centre du ballon : : commencer le pointage lorsque le ballon n'est plus dans les mains du lanceur et **l'arrêter lorsque le ballon est au point haut de la trajectoire**.\n",
    "         \n",
    "    2. exporter vos données (menu Fichiers/Mesures/Enregistrer dans un fichier/format*.txt) : mettre votre prenom et nom comme titre du fichier et choisir \";\" comme séparateur.\n",
    "     \n",
    "    3. Déposer votre fichier sur binder :cliquer sur le bouton \"upload\" \"puis téléverser\".\n",
    "\n",
    "\n",
    "2. Les données sont en mémoire dans des listes python appelées t, x et y"
   ]
  },
  {
   "cell_type": "markdown",
   "metadata": {},
   "source": [
    " <div class = \"alert alert-info\">\n",
    "    \n",
    "\n",
    " Exécuter le programme ci-dessous : changer le nom du programme "
   ]
  },
  {
   "cell_type": "code",
   "execution_count": null,
   "metadata": {},
   "outputs": [],
   "source": [
    "#ouverture du fichier contenant les données de trajectoire\n",
    "#le fichier doit être dans le même dossier que le notebook\n",
    "name=\"pointage-volley.txt\"\n",
    "\n",
    "sep = \";\" #caractère séparateur du csv -peut être une virgule, un point-virgule ou une tabulation noté \\t \n",
    "entete = 3 #nombre de lignes d'entete\n",
    "\n",
    "f = open(name,\"r\")\n",
    "data = f.readlines() #on lit toutes les lignes et on met ça dans une liste -un élément par ligne-\n",
    "f.close() #on referme le fichier\n",
    "\n",
    "data = data[ entete : ] #on supprime les lignes d'en-tête qui ne nous intéressent pas\n",
    "\n",
    "#on construit les listes de valeurs utiles\n",
    "# les données du fichier texte sont de la forme t x y (adapter les lignes ci-dessous sinon)\n",
    "t = [] \n",
    "x = []\n",
    "y = []\n",
    "for ligne in data:\n",
    "    ligne = ligne.replace(\",\" , \".\") #change les virgules en point => format numérique différent sur excel et sur python\n",
    "    ligne = ligne.strip().split(sep) #on sépare les différents élément en utilisant le caractère séparateur défini\n",
    "    ligne = list(map(float,ligne)) #on convertit chaque élément en float\n",
    "    #on rentre les valeurs dans les listes adaptées\n",
    "    t.append(ligne[0]) #premier élément de la ligne = t\n",
    "    x.append(ligne[1]) # second élément de la ligne = x\n",
    "    y.append(ligne[2]) # dernier élément de la ligne = y\n",
    "\n",
    "#affichage des listes\n",
    "print(\"t=\",t)\n",
    "print(\"x=\",x)\n",
    "print(\"y=\",y)"
   ]
  },
  {
   "cell_type": "markdown",
   "metadata": {},
   "source": [
    "## Tracé de la courbe"
   ]
  },
  {
   "cell_type": "markdown",
   "metadata": {},
   "source": [
    "## Rappel : principe du tracé d'une courbe en python\n",
    "\n",
    "On utilise la méthode `plot`qui permet de tracer des courbes ou des nuages de points. \n",
    "Il suffit de disposer de deux listes de même taille, l'une correspondant aux valeurs de l'abscisse, l'autre aux valeurs de l'ordonnée. "
   ]
  },
  {
   "cell_type": "markdown",
   "metadata": {},
   "source": [
    " <div class = \"alert alert-info\">\n",
    "    \n",
    "\n",
    "Exécuter le programme pour rappel des différentes fonctionnalités ( voir aussi le lien https://phychim.ac-versailles.fr/IMG/pdf/tuto_python_matplotlib.pdf )"
   ]
  },
  {
   "cell_type": "code",
   "execution_count": null,
   "metadata": {},
   "outputs": [],
   "source": [
    "import matplotlib.pyplot as plt\n",
    "\n",
    "absc = [10, 11, 13, 15, 18, 20, 22]  # les valeurs en abscisse sous forme de liste  \n",
    "ordo = [1, 3, 5, 8, 5, 1, 7] # les valeurs en ordonnée sous forme de liste\n",
    "\n",
    "plt.figure(figsize=(10,10)) # taille du graphique (en pouces)\n",
    "\n",
    "plt.axes(aspect='equal') #  repère orthonormé\n",
    "\n",
    "plt.grid()    # affichage d'une grille\n",
    "\n",
    "\n",
    "\n",
    "plt.xlim([5,25]) # échelle en x\n",
    "\n",
    "plt.ylim([0,10]) # échelle en y\n",
    "\n",
    "plt.plot(absc, ordo, color = 'r', marker = '>', linestyle = ':') #On peut ajouter différents attributs, comme la couleur, le style de trait, le style de point.\n",
    "plt.title(\"évolution de la température\") #titre du graphique\n",
    "plt.xlabel(\"x en °C\") # légende de l'axe des abscisses\n",
    "plt.ylabel(\"y en minutes\") # légende de l'axe des oordonnées\n",
    "plt.savefig('courbe.PNG') #pour sauvegader une image de votre courbe (même dossier que le notebook)\n",
    "\n",
    "plt.show() # affiche le graphique"
   ]
  },
  {
   "cell_type": "markdown",
   "metadata": {},
   "source": [
    " <div class = \"alert alert-info\">\n",
    "Tracer la trajectoire du ballon en nuage de point (c'est à dire y en fonction de x)  avec le titre des axes et le titre du graphique. \n",
    "    \n",
    "Ne pas indiquer d'échelle\n",
    "    \n",
    "La taille du graphique sera un carré de 10 pouces de côté"
   ]
  },
  {
   "cell_type": "code",
   "execution_count": 1,
   "metadata": {},
   "outputs": [],
   "source": [
    "#trajectoire du ballon\n"
   ]
  },
  {
   "cell_type": "markdown",
   "metadata": {},
   "source": [
    "## Calcul de l'énergie mécanique\n",
    "\n",
    "L'énergie mécanique d'un objet est l'énergie due à son mouvement  et à son mouvement\n",
    "- **l'énergie cinétique** notée EC en J est l'énergie due au mouvement : $ E_C = \\frac {1}{2} \\times m \\times v^2 $ avec m masse en kg et v la vitesse en m/s\n",
    "- **l'énergie potentielle de pesanteur** notée Epp en J : $ E_{pp} = m \\times g \\times y $ avec g=9,8N/kg = intensité du champ de pesanteur\n",
    "- **l'énergie mécanique** notée Em en J : Em=Ec + Epp"
   ]
  },
  {
   "cell_type": "markdown",
   "metadata": {},
   "source": [
    "## Calcul de la vitesse (rappel)\n",
    "\n",
    "La vitesse au point M se calcule à partir des valeurs de  $\n",
    "M \n",
    "\\begin{pmatrix}\n",
    "x \\\\\n",
    "y \\\\\n",
    "\\end{pmatrix}\n",
    "$ et de la position suivante $ M' \n",
    "\\begin{pmatrix}\n",
    "x' \\\\\n",
    "y' \\\\\n",
    "\\end{pmatrix}\n",
    "$.\n",
    "L'abscisse de $ \\overrightarrow v $ est notée vx, l'ordonnée vy, c'est à dire $\\overrightarrow v \n",
    "\\begin{pmatrix}\n",
    "vx \\\\\n",
    "vy \\\\\n",
    "\\end{pmatrix}\n",
    "$\n",
    "\n",
    "1. Calcul de vx et vy :\n",
    "\n",
    "Comme la formule de la vitesse est :  $ \\overrightarrow v =   \\dfrac { \\overrightarrow {MM'}} {  t'-t }  $ , $\n",
    "\\overrightarrow v \n",
    "\\begin{pmatrix}\n",
    "vx=\\dfrac{x'-x}{t'-t} \\\\\n",
    "vy=\\dfrac{y'-y}{t'-t} \\\\\n",
    "\\end{pmatrix}\n",
    "$\n",
    "\n",
    "De plus les valeurs de x et y sont dans des listes. Pour repérer un élément dans la liste, il faut écrire par exemple x\\[1\\] qui correspond au deuxième élément de la liste x car la liste est numéroté à partir du rang 0.\n",
    "\n",
    "Donc  $ v_x[i]=\\dfrac {x [i+1]-x[i]} {t[i+1] - t[i]} $ et $ v_y[i]=\\dfrac {y [i+1]-y[i]} {t[i+1]-t[i]} $\n",
    "\n",
    "$ t[i+1] - t[i] $ correspond à la durée entre deux positions successives ( = $ \\Delta t $)\n",
    "\n",
    "\n",
    "2. Calcul de v (= norme de$ \\overrightarrow v $ ) : \n",
    "\n",
    "$\\ v = \\sqrt{ \\ v_x^2 + \\ v_y^2 } $"
   ]
  },
  {
   "cell_type": "markdown",
   "metadata": {},
   "source": [
    " <div class = \"alert alert-info\">\n",
    "    \n",
    "Compléter le programme pour\n",
    "- calculer vy\n",
    "- calculer v (il faut utiliser la fonction sqrt )"
   ]
  },
  {
   "cell_type": "code",
   "execution_count": 11,
   "metadata": {},
   "outputs": [],
   "source": [
    "from math import sqrt #import de la fonction sqrt = racine carré\n",
    "\n",
    "#calcul des coordonnées des vecteurs vitesse\n",
    "vx=[] # liste permettant de calculer les valeurs de vx\n",
    " # liste permettant de calculer les valeurs de vy\n",
    " # liste permettant de calculer les valeurs de v\n",
    "\n",
    "for i in range(len(y)-1): #len(y) correspond au nombre de valeur de la liste y. On utilise len(y)-1 car la liste est numérotée à partir du rang 0 jusqu'au rang len(y)-1 et qu'on utilise la valeur y[i+1] \n",
    "    vx.append((x[i+1]-x[i])/(t[i+1] - t[i])) # calcul de l'abscisse de la vitesse \n",
    "     # calcul de l'ordonnée de la vitesse.\n",
    "     #calcul de v \n",
    "     \n"
   ]
  },
  {
   "cell_type": "markdown",
   "metadata": {},
   "source": [
    "## Affichage des courbes d'énergie\n"
   ]
  },
  {
   "cell_type": "markdown",
   "metadata": {},
   "source": [
    "## Calcul de Ec, Epp, Em"
   ]
  },
  {
   "cell_type": "markdown",
   "metadata": {},
   "source": [
    "<div class = \"alert alert-info\">\n",
    "\n",
    "Calculer  Ec et Em : ce sont des listes qui doivent être calculées à partir des données précédentes (utiliser `range (len(y) -1)` pour parcourir les listes, pour que toutes les listes aient la même taille)\n",
    "\n",
    "La masse du ballon vaut 0,275 kg\n",
    "\n",
    "**Attention** : pour ajouter terme à terme les éléments de deux listes L<sub>1</sub> et L<sub>2</sub>, il ne faut pas faire L<sub>1</sub> + L<sub>2</sub>, cela ne fait que concaténer les 2 listes c'est à dire créer une liste avec les éléments des deux listes."
   ]
  },
  {
   "cell_type": "code",
   "execution_count": 12,
   "metadata": {},
   "outputs": [],
   "source": [
    "#données du lancer\n",
    "m=0.275\n",
    "g=9.81\n",
    "#création de Epp\n",
    "Epp=[]\n",
    "for i in range(len(y)-1):\n",
    "    Epp.append(m*g*y[i])\n",
    "\n",
    "#création de Ec\n",
    "\n",
    "\n",
    "#création de Em\n",
    "\n"
   ]
  },
  {
   "cell_type": "markdown",
   "metadata": {},
   "source": [
    "## Tracé des courbes de Ec, Epp, Em"
   ]
  },
  {
   "cell_type": "markdown",
   "metadata": {},
   "source": [
    "<div class = \"alert alert-info\">\n",
    "    \n",
    "Tracer les courbes Ec, Epp et Em (en ordonnée) en fonction de tm (en abscisse) sur le même graphique. Il faut enlever la dernière valeur de la liste t pour que chaque listes aient la même taille. On crée la variable tm correspondant à la liste t moins la dernière valeur `tm=t[O:-1]`\n",
    "\n",
    "**Attention** : pas de repère orthonormé\n"
   ]
  },
  {
   "cell_type": "code",
   "execution_count": null,
   "metadata": {},
   "outputs": [],
   "source": [
    "#trajectoire des courbes d'énergie\n",
    "\n",
    "tm=t[0:-1] #liste des valeurs de temps\n",
    "\n",
    "import matplotlib.pyplot as plt\n",
    "plt.figure(figsize=(10,10)) # taille du graphique (en pouces)\n",
    "\n",
    "plt.grid()\n",
    "#courbe Epp (abscisse=tm, ordonnée=Epp)\n",
    "plt.plot(tm, Epp, color = 'b', marker = '+', linestyle = ':',label=\"Epp\") \n",
    "\n",
    "\n"
   ]
  }
 ],
 "metadata": {
  "kernelspec": {
   "display_name": "Python 3",
   "language": "python",
   "name": "python3"
  },
  "language_info": {
   "codemirror_mode": {
    "name": "ipython",
    "version": 3
   },
   "file_extension": ".py",
   "mimetype": "text/x-python",
   "name": "python",
   "nbconvert_exporter": "python",
   "pygments_lexer": "ipython3",
   "version": "3.7.3"
  }
 },
 "nbformat": 4,
 "nbformat_minor": 4
}

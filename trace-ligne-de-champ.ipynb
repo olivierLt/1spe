{
 "cells": [
  {
   "cell_type": "markdown",
   "metadata": {},
   "source": [
    "# Tracé d'un champ gravitationnel et d'un champ électrostatique"
   ]
  },
  {
   "cell_type": "markdown",
   "metadata": {},
   "source": [
    "Un notebook se lit de haut en bas. Toutes les cellules de code doivent être exécutées :\n",
    "- soit en cliquant sur le bouton \"Exécuter\" dans la barre d'outil\n",
    "- soit au clavier en tapant sur les touches MAJ + ENTREE  \n",
    "\n",
    "\n",
    "Pour récupérer votre travail sur votre ordinateur : menu File > Download As > Notebook (.ipynb)"
   ]
  },
  {
   "cell_type": "markdown",
   "metadata": {},
   "source": [
    "## Tracé d'un vecteur - La base"
   ]
  },
  {
   "cell_type": "markdown",
   "metadata": {},
   "source": [
    "Pour tracer un vecteur sur une figure, on utilise les commandes plt.quiver et plt.show. Par exemple, pour tracer un vecteur de coordonnées (1,2) à partir de la position (3,4), on peut faire (exécuter la cellule pour voir le résultat) :"
   ]
  },
  {
   "cell_type": "code",
   "execution_count": null,
   "metadata": {},
   "outputs": [],
   "source": [
    "import matplotlib.pyplot as plt\n",
    "\n",
    "\n",
    "\n",
    "plt.grid() # affiche une grille\n",
    "\n",
    "plt.quiver(3, 4, 1, 2)\n",
    "\n",
    "\n",
    "plt.show()"
   ]
  },
  {
   "cell_type": "markdown",
   "metadata": {},
   "source": [
    "<div class = \"alert alert-info\">\n",
    "    \n",
    "### question 1\n",
    "    \n",
    "Afficher un vecteur de coodonnées (0,2) à partir de la position (4,5)\n"
   ]
  },
  {
   "cell_type": "code",
   "execution_count": 33,
   "metadata": {},
   "outputs": [],
   "source": [
    "#entrer votre code ici\n",
    "# copier /coller le programme précédent et le modifier \n",
    "\n"
   ]
  },
  {
   "cell_type": "markdown",
   "metadata": {},
   "source": [
    "## Tracé d'un vecteur - Un peu plus sophistiqué"
   ]
  },
  {
   "cell_type": "markdown",
   "metadata": {},
   "source": [
    "Cependant, les coordonnées (3,4) du point de départ du vecteur et les coordonnées (1,2) du vecteur ne sont pas à la même échelle et dépendent même du zoom utilisé sur la figure.\n",
    "\n",
    "Des paramètres facultatifs de la fonction plt.quiver sont alors très utiles pour tracer des vecteurs comme nous en avons l'habitude en Physique-Chimie. \n",
    "\n",
    "Exécuter le programme suivant pour voir un exemple de tracé de vecteur avec une échelle définie."
   ]
  },
  {
   "cell_type": "code",
   "execution_count": null,
   "metadata": {},
   "outputs": [],
   "source": [
    "import matplotlib.pyplot as plt\n",
    "\n",
    "plt.axes(aspect='equal') # permet d'avoir un repère orthonormé\n",
    "\n",
    "plt.grid()\n",
    "\n",
    "plt.xlim([0,10]) # échelle en x\n",
    "\n",
    "plt.ylim([0,10]) # échelle en y\n",
    "\n",
    "plt.quiver(3, 4, 1, 2, units='dots', angles=\"xy\", scale_units='xy', scale=1, label=\"Exemple de vecteur\",color=\"green\")\n",
    "\n",
    "plt.legend() # affiche la légende\n",
    "\n",
    "\n",
    "plt.plot(3,4,marker='+',color='red',markersize = 15,markeredgewidth = 3)#affiche un \"+\" à l'origine du vecteur\n",
    "\n",
    "plt.text(2.5,3.5,\"A\",color='red')#affiche la lettre A en rouge à la position  2.5, 3.5\n",
    "\n",
    "plt.show()"
   ]
  },
  {
   "cell_type": "markdown",
   "metadata": {},
   "source": [
    "Ce code permet d'utiliser un repère orthonormé (ce qui est utile pour avoir la même échelle selon les deux axes), de fixer la taille de la tête de la flèche, et d'ajuster la taille du vecteur au zoom appliqué à la fenêtre. Il faudra donc **systématiquement utiliser units=\"dots\", angles=\"xy\" et scale_units=\"xy\"**. L'argument **scale** permet de donner l'échelle du vecteur par rapport aux valeurs affichées sur les axes. Ainsi avec **scale = 2**, un vecteur de coordonnées (2, 4) aura une taille de 1 horizontalement et 2 verticalement. Il sera donc possible lors d'une représentation d'avoir une échelle pour les positions, une autre pour les vitesses et une troisième pour les accélérations. Enfin **color** permet de choisir la couleur du vecteur et **label** le texte à afficher dans la légende."
   ]
  },
  {
   "cell_type": "markdown",
   "metadata": {},
   "source": [
    "<div class = \"alert alert-info\">\n",
    "    \n",
    "### question 2\n",
    "    \n",
    "Afficher un vecteur de coodonnées (0,6) à partir de la position (4,5) à l'échelle 2 avec la lettre B à l'origine du vecteur et un vecteur de couleur rouge."
   ]
  },
  {
   "cell_type": "code",
   "execution_count": 34,
   "metadata": {},
   "outputs": [],
   "source": [
    "#entrer votre code ici\n",
    "# copier /coller le programme précédent et le modifier \n"
   ]
  },
  {
   "cell_type": "markdown",
   "metadata": {},
   "source": [
    "## Tracé d'un vecteur en physique"
   ]
  },
  {
   "cell_type": "markdown",
   "metadata": {},
   "source": [
    "Le problème en physique est que la norme du vecteur (= \"sa taille\") est lié à la grandeur physique qu'il représente. Par exemple la norme d'un vecteur force est proportionnelle à la valeur de la force. Il faut donc indiquer explicitement l'échelle sur le graphique. Par exemple on veut représenter un poids de 150 N \n",
    "\n",
    "Exécuter le programme suivant."
   ]
  },
  {
   "cell_type": "code",
   "execution_count": null,
   "metadata": {},
   "outputs": [],
   "source": [
    "import matplotlib.pyplot as plt\n",
    "\n",
    "plt.axes(aspect='equal')\n",
    "\n",
    "\n",
    "plt.grid()\n",
    "\n",
    "plt.xlim([0,10]) # échelle en x\n",
    "\n",
    "plt.ylim([0,10]) # échelle en y\n",
    "\n",
    "poids=[0,-150] # coordonnées du poids\n",
    "\n",
    "# on veut que 100N soit coorespond à une taille de 2m sur le graphique \n",
    "echelle_vecteur=100\n",
    "echelle_carreau=2\n",
    "\n",
    "plt.quiver(5, 5, poids[0], poids[1], units='dots', angles=\"xy\", scale_units='xy', scale=echelle_vecteur /echelle_carreau, label=\"Poids\",color=\"green\")\n",
    "\n",
    "plt.quiver(6, 6,echelle_carreau,0, units='dots', angles=\"xy\", scale_units='xy', scale=1, label=\"échelle en N \") # vecteur représenrtnt l'échelle\n",
    "\n",
    "\n",
    "plt.text(6.5,5.5,str(echelle_vecteur)) # valeur du vecteur échelle\n",
    "\n",
    "\n",
    "\n",
    "plt.legend() # affiche la légende\n",
    "\n",
    "\n",
    "\n",
    "plt.plot(5,5,marker='+',color='red',markersize = 10,markeredgewidth = 3)#affiche un \"+\" à l'origine du vecteur\n",
    "\n",
    "plt.text(4.5,5.2,\"A\",color='red')#affiche la lettre A à la position  4.5,4.9\n",
    "\n",
    "plt.text(4.2,3.5, \"$\\overrightarrow{P}$\") # affichage de la lettre P avec une flêche à côté du vecteur poids\n",
    "\n",
    "plt.show()"
   ]
  },
  {
   "cell_type": "markdown",
   "metadata": {},
   "source": [
    "Les coordonnées du vecteur  poid sont données sous la forme d'une liste appelée poids : la première valeur (=poids\\[0\\]) représente la coordonnée selon x, la seconde (=poids\\[1\\]) la coordonnée selon y.\n",
    "Pour représenter ce vecteur, il faut une échelle. On a choisit (c'est arbitraire que 2 carreaux représentent 100 N). Pour cela :\n",
    "- on représente un vecteur de 2 carreaux à côté du vecteur poids avec un texte indiquant que cela représente un vecteur de 100 N\n",
    "- il faut définir l'échelle : ici l'échelle vaut 50 (100 Newton / 2 carreaux). On utilise pour cela la variable nommée echelle."
   ]
  },
  {
   "cell_type": "markdown",
   "metadata": {},
   "source": [
    "<div class = \"alert alert-info\">\n",
    "    \n",
    "### question 3\n",
    "    \n",
    "A l'aide du programme précédent, afficher un vecteur force de cordonnées (50,300)  telle que l'origine de ce vecteur force soit un point  de coordonnées (2,3). Afficher un \"+\" à l'iorigine du vecteur. Modifier l'échelle"
   ]
  },
  {
   "cell_type": "code",
   "execution_count": 35,
   "metadata": {},
   "outputs": [],
   "source": [
    "#entrer votre code ici\n",
    "# copier /coller le programme précédent et le modifier \n",
    "\n"
   ]
  },
  {
   "cell_type": "markdown",
   "metadata": {},
   "source": [
    "## La force gravitationnelle\n",
    "\n",
    "### Force gravitationnelle exercée par la terre sur un corps de masse m"
   ]
  },
  {
   "cell_type": "markdown",
   "metadata": {},
   "source": [
    "La formule de la force gravitationnelle entre la terre de masse M et un corps de masse m est :  $ \\overrightarrow F = - G \\times \\frac{  M \\times m }  {d^2} \\cdot \\overrightarrow u$ où G est la constante gravitationnelle, $\\overrightarrow u$ un vecteur unitaire dirigé de la terre vers le corps  et d la distance entre le corps et la terre avec $ G=6,67 \\times  10 ^{-11} SI $ et $M=5.972 \\times10^{24} kg$\n",
    "\n",
    "Le centre de la terre est situé à l'origine d'un repère orthonormé\n",
    "\n",
    "Le programme suivant trace la force gravitationnelle $ \\overrightarrow F $ en un point de coordonnées (x,y).\n",
    "\n",
    "Exécuter ce programme."
   ]
  },
  {
   "cell_type": "code",
   "execution_count": null,
   "metadata": {},
   "outputs": [],
   "source": [
    "import matplotlib.pyplot as plt\n",
    "\n",
    "from math import sqrt\n",
    "\n",
    "plt.axes(aspect='equal')\n",
    "\n",
    "plt.grid()\n",
    "\n",
    "plt.xlim([-1.*10**8,1.*10**8]) # échelle en x\n",
    "\n",
    "plt.ylim([-1.*10**8,1.*10**8]) # échelle en y\n",
    "\n",
    "plt.xticks([-1.*10**8,-0.5*10**8,0,0.5*10**8,1.*10**8]) # affiche les valeurs sur l'échelle en x\n",
    "plt.yticks([-1.*10**8,-0.5*10**8,0,0.5*10**8,1.*10**8]) # affiche les valeurs sur l'échelle en y\n",
    "\n",
    "\n",
    "\n",
    "G=6.67*10**-11 # valeur de G\n",
    "M=5.972*10**24 #M=masse de la terre en kg\n",
    "m=100. # m=valeur de la masse en kg du corps en interaction avec la terre\n",
    "x=5.*10**7 # abscisse en m du corps en interaction avec la terre\n",
    "y=5.*10**7 # ordonée en m du corps en interaction avec la terre\n",
    "\n",
    "#coordonnées du vecteur force ans un repère orthonormé (les formules ne sont pas à connaître)\n",
    "fx=-(G*M*m)*x /(x**2+y**2)**1.5 #coordonnée selon x de f\n",
    "fy= -(G*M*m)*y /(x**2+y**2)**1.5  #coordonnée selon y de f\n",
    "\n",
    "f=sqrt(fx**2+fy**2) # calcul de la norme de f \n",
    "\n",
    "print(\"fx=\",fx,\"N\")# affichage de fx\n",
    "print(\"fy=\",fy,\"N\")# affichage de fy\n",
    "print(\"f=\",f,\"N\") # affichage de la norùme de f \n",
    "\n",
    "# on veut que 10N soit représenté par 1 carreau\n",
    "echelle_vecteur=10\n",
    "echelle_carreau=0.5*10**8 # 1 carreau vaut 0.5*10**8 m\n",
    "\n",
    "plt.plot(0,0,marker='o',color='red',markersize = 15,markeredgewidth = 3)#affiche un \"o\" en 0,0 représentant la terre\n",
    "\n",
    "\n",
    "plt.text(0,-0.25*10**8,\"terre\",color='red')\n",
    "\n",
    "plt.quiver(x, y, fx, fy, units='dots', angles=\"xy\", scale_units='xy', scale=echelle_vecteur/echelle_carreau, label=\"force gravitationnelle\",color=\"green\")\n",
    "\n",
    "plt.text(x,y, \"$\\overrightarrow{f}$\") # affichage de la lettre f avec une flêche à côté du vecteur\n",
    "\n",
    "plt.show()\n"
   ]
  },
  {
   "cell_type": "markdown",
   "metadata": {},
   "source": [
    "<div class = \"alert alert-info\">\n",
    "    \n",
    "### question 4\n",
    "\n",
    "En modifiant le programme précédent,tracer le vecteur force gravitationnelle au point de coordonnées x=0m, y=5*10**7 m  d'un point de masse m=500kg (il faudra modifier l'échelle)"
   ]
  },
  {
   "cell_type": "code",
   "execution_count": 36,
   "metadata": {},
   "outputs": [],
   "source": [
    "#entrer votre code ici\n",
    "# copier /coller le programme précédent et le modifier \n",
    "\n"
   ]
  },
  {
   "cell_type": "markdown",
   "metadata": {},
   "source": [
    "## La force électrostatique\n",
    "### Force électrostatique exercée par une charge Q sur une charge q"
   ]
  },
  {
   "cell_type": "markdown",
   "metadata": {},
   "source": [
    "La formule de la force électrostatique entre un corps de charge Q et un corps de charge q est :  $ \\overrightarrow F =  K \\times \\frac{  Q \\times q }  {d^2} \\cdot \\overrightarrow u$ où K est la constante électrostatique , $\\overrightarrow u$ un vecteur unitaire dirigé de la charge Q vers la charge   et d la distance entre les deux charges avec $ K=9.0 \\times  10 ^{9} SI $ .\n",
    "\n",
    "Le centre de la charge Q est situé à l'origine d'un repère orthonormé\n",
    "\n",
    "Le programme suivant trace la force électrostatique $ \\overrightarrow F $ en un point de coordonnées (x,y).\n",
    "\n",
    "Exécuter ce programme.\n",
    "\n"
   ]
  },
  {
   "cell_type": "code",
   "execution_count": null,
   "metadata": {},
   "outputs": [],
   "source": [
    "import matplotlib.pyplot as plt\n",
    "\n",
    "from math import sqrt\n",
    "\n",
    "plt.axes(aspect='equal')\n",
    "\n",
    "plt.grid()\n",
    "\n",
    "plt.xlim([-1.*10**-8,1.*10**-8]) # échelle en x\n",
    "\n",
    "plt.ylim([-1.*10**-8,1.*10**-8]) # échelle en y\n",
    "\n",
    "plt.xticks([-1.*10**-8,-0.5*10**-8,0,0.5*10**-8,1.*10**-8]) # affiche les valeurs sur l'échelle en x\n",
    "plt.yticks([-1.*10**-8,-0.5*10**-8,0,0.5*10**-8,1.*10**-8]) # affiche les valeurs sur l'échelle en y\n",
    "\n",
    "\n",
    "\n",
    "K=9*10**9 # valeur de K\n",
    "Q=1.6*10**-19 # valeur de la charge source en Coulomb (= une fois la charge élémentaire)\n",
    "q=1.6*10**-19 # m=valeur de la cahrge q en C du corps en interaction avec la charge Q\n",
    "x=4*10**-9 # abscisse en m de la charge q\n",
    "y=2*10**-9 # ordonnée en m de la charge q\n",
    "\n",
    "#coordonnées du vecteur force ans un repère orthonormé (les formules ne sont pas à connaître)\n",
    "fx=(K*Q*q)*x /(x**2+y**2)**1.5 #coordonnée selon x de f\n",
    "fy= (K*Q*q)*y /(x**2+y**2)**1.5  #coordonnée selon y de f\n",
    "\n",
    "f=sqrt(fx**2+fy**2) # calcul de la norme de f \n",
    "\n",
    "print(\"fx=\",fx,\"N\")# affichage de fx\n",
    "print(\"fy=\",fy,\"N\")# affichage de fy\n",
    "print(\"f=\",f,\"N\") # affichage de la norme de f \n",
    "\n",
    "# on veut que 10N soit représenté par 1 carreau\n",
    "echelle_vecteur=10**-10\n",
    "echelle_carreau=3*10**-8 # 1 carreau vaut 0.5*10**8 m\n",
    "\n",
    "\n",
    "\n",
    "plt.plot(0,0,marker='o',color='red',markersize = 5,markeredgewidth = 3)#affiche un \"o\" en 0,0 représentant la terre\n",
    "\n",
    "\n",
    "plt.quiver(x, y, fx, fy, units='dots', angles=\"xy\", scale_units='xy', scale=echelle_vecteur/echelle_carreau, label=\"force gravitationnelle\",color=\"green\")\n",
    "\n",
    "\n",
    "\n",
    "#plt.show()"
   ]
  },
  {
   "cell_type": "markdown",
   "metadata": {},
   "source": [
    "<div class = \"alert alert-info\">\n",
    "    \n",
    "### question 6\n",
    "\n",
    "En modifiant le programme précédent,tracer le vecteur force électrique en changeant\n",
    "\n",
    "- la position de la charge q\n",
    "- le signe de la charge q\n",
    "- la valeur de la charge q"
   ]
  },
  {
   "cell_type": "code",
   "execution_count": 37,
   "metadata": {},
   "outputs": [],
   "source": [
    "#entrer votre code ici\n",
    "# copier /coller le programme précédent et le modifier \n"
   ]
  },
  {
   "cell_type": "markdown",
   "metadata": {},
   "source": [
    "## Le champ gravitationnel\n",
    "\n",
    "### Champ gravitationnel créé par la terre"
   ]
  },
  {
   "cell_type": "markdown",
   "metadata": {},
   "source": [
    "Le champ gravitationnel crée par la terre traduit l'effet gravitationnel du fait de la présence de laterre. l'avantage de la notion de champ par rapport à celle de la force est que la notion de champ traduit l'effet sur l'espace d'un corps (ici la terre) alors que la force nécessite l'intervention de deux corps en interaction.\n",
    "\n",
    "L'intensité du champ gravitationnel créé par la terre vaut  $ \\overrightarrow G = - G \\times \\frac{  M }  {d^2} \\cdot \\overrightarrow u$ où G est la constante gravitationnelle, $\\overrightarrow u$ un vecteur unitaire dirigé de la terre vers le point où est défini le champ et d la distance entre le point et la terre.\n",
    "\n",
    "Le centre de la terre est situé à l'origine d'un repère orthonormé\n",
    "\n",
    "Le programme suivant trace le vecteur champ $ \\overrightarrow G $ en un point de coordonnées (x,y).\n",
    "\n",
    "Exécuter ce programme."
   ]
  },
  {
   "cell_type": "code",
   "execution_count": null,
   "metadata": {},
   "outputs": [],
   "source": [
    "import matplotlib.pyplot as plt\n",
    "\n",
    "from math import sqrt\n",
    "\n",
    "\n",
    "plt.axes(aspect='equal')\n",
    "\n",
    "plt.grid()\n",
    "\n",
    "plt.xlim([-1.*10**8,1.*10**8]) # échelle en x\n",
    "\n",
    "plt.ylim([-1.*10**8,1.*10**8]) # échelle en y\n",
    "\n",
    "plt.xticks([-1.*10**8,-0.5*10**8,0,0.5*10**8,1.*10**8])\n",
    "plt.yticks([-1.*10**8,-0.5*10**8,0,0.5*10**8,1.*10**8])\n",
    "\n",
    "\n",
    "G=6.67*10**-11 # valeur de G\n",
    "M=5.972*10**24 #M=masse de la terre en kg\n",
    "\n",
    "x=0 # abscisse en m du point où est calculé le champ\n",
    "y=5.*10**7 # ordonnée en m du point où est calculé le champ\n",
    "\n",
    "#coordonnées du vecteur force ans un repère orthonormé (les formules ne sont pas à connaître)\n",
    "gx=-(G*M)*x /(x**2+y**2)**1.5\n",
    "gy= -(G*M)*y /(x**2+y**2)**1.5\n",
    "\n",
    "g=sqrt(gx**2+gy**2) # calcul de la norme de f \n",
    "\n",
    "print(\"gx=\",gx,\"N/kg\")# affichage de fx\n",
    "print(\"gy=\",gy,\"N/kg\")# affichage de fy\n",
    "print(\"g=\",g,\"N/Kg\") # affichage de la norme de f \n",
    "\n",
    "# on veut que 0,1N/kg soit représenté par 0.5*10**8 m\n",
    "echelle_vecteur=0.1\n",
    "echelle_carreau=0.5*10**8 \n",
    "\n",
    "plt.plot(0,0,marker='o',color='red',markersize = 15,markeredgewidth = 3)#affiche un \"+\" en 0,0 représentant la terre\n",
    "\n",
    "plt.text(0.25*10**8,0,\"terre\",color='red')\n",
    "\n",
    "\n",
    "plt.text(x,y,\"$\\overrightarrow{G}$\")\n",
    "\n",
    "plt.quiver(x, y, gx, gy, units='dots', angles=\"xy\", scale_units='xy', scale=echelle_vecteur/echelle_carreau, label=\"force gravitationnelle\",color=\"green\")\n",
    "\n",
    "plt.show()"
   ]
  },
  {
   "cell_type": "markdown",
   "metadata": {},
   "source": [
    "<div class = \"alert alert-info\">\n",
    "    \n",
    "### question 7\n",
    "En modifiant le programme précédent écrire le programme permettant d'afficher le vecteur champ en un autre point de l'espace (modifier éventuellement l'échelle)\n"
   ]
  },
  {
   "cell_type": "code",
   "execution_count": 38,
   "metadata": {},
   "outputs": [],
   "source": [
    "#entrer votre code ici\n",
    "# copier /coller le programme précédent et le modifier \n"
   ]
  },
  {
   "cell_type": "markdown",
   "metadata": {},
   "source": [
    "### Cartographie d'un champ gravitationnel \n",
    "Cartographier un champ vectoriel revient à tracer des vecteurs champ vectoriel en plusieurs points de l'espace. Ces points sont définis dans deux listes, une pour les abscisses, l'autre pour les ordonnées. Chaque indice correspond à un point (par exemple le point d'indice 0 est de coordonnées x[0] et y[0].\n",
    "\n",
    "Exécuter le programme ci-dessous"
   ]
  },
  {
   "cell_type": "code",
   "execution_count": null,
   "metadata": {},
   "outputs": [],
   "source": [
    "import matplotlib.pyplot as plt\n",
    "\n",
    "\n",
    "plt.axes(aspect='equal')\n",
    "\n",
    "plt.grid()\n",
    "\n",
    "plt.xlim([-1.*10**8,1.*10**8]) # échelle en x\n",
    "\n",
    "plt.ylim([-1.*10**8,1.*10**8]) # échelle en y\n",
    "\n",
    "plt.xticks([-1.*10**8,-0.5*10**8,0,0.5*10**8,1.*10**8])\n",
    "plt.yticks([-1.*10**8,-0.5*10**8,0,0.5*10**8,1.*10**8])\n",
    "\n",
    "# on veut que 0,1N/kg soit représenté par 0.5*10**8 m\n",
    "echelle_vecteur=0.1\n",
    "echelle_carreau=0.5*10**8 \n",
    "\n",
    "plt.plot(0,0,marker='o',color='red',markersize = 15,markeredgewidth = 3)#affiche un \"+\" en 0,0 représentant la terre\n",
    "\n",
    "plt.text(0,0,\"terre\",color='red')\n",
    "\n",
    "\n",
    "G=6.67*10**-11 # valeur de G\n",
    "M=5.972*10**24 #M=masse de la terre en kg\n",
    "\n",
    "x=[-0.5*10**8,-0.5*10**8, 0.5*10**8,0.5*10**8] # abscisse en m du corps en interaction avec la terre\n",
    "y=[-0.5*10**8,0.5*10**8,-0.5*10**8,0.5*10**8] # ordonnée en m du corps en interaction avec la terre\n",
    "\n",
    "#coordonnées du vecteur force dans un repère orthonormé (les formules ne sont pas à connaître)\n",
    "for i in range(len(x)):\n",
    "    gx =-(G*M)*x[i] /(x[i]**2+y[i]**2)**1.5 # coordonnée de g selon x\n",
    "    gy = -(G*M)*y[i] /(x[i]**2+y[i]**2)**1.5 #coordonnée de g selon y\n",
    "      \n",
    "    # affichage de gx et gy \n",
    "    print(\"gx\",i,\"=\",gx,\"N/kg\")\n",
    "    \n",
    "    print(\"gy\",i,\"=\",gy,\"N/kg\")\n",
    "    \n",
    "    plt.quiver(x[i], y[i], gx, gy, units='dots', angles=\"xy\", scale_units='xy', scale=echelle_vecteur/echelle_carreau, label=\"force gravitationnelle\",color=\"green\")\n",
    "\n",
    "    \n",
    "    \n",
    "plt.show()"
   ]
  },
  {
   "cell_type": "markdown",
   "metadata": {},
   "source": [
    "<div class = \"alert alert-info\">\n",
    "    \n",
    "### question 8\n",
    "    \n",
    " Compléter le programme python précédent pour afficher le champ aux points **supplémentaires** suivants (inutile d'afficher les coordonnées de g) :\n",
    "    \n",
    "- (0,0.5*10<sup>8</sup>)\n",
    "- (0,-0.5*10<sup>8</sup>)\n",
    "- (0.5*10<sup>8</sup>,0)\n",
    "- (-0.5*10<sup>8</sup>,0)\n",
    "\n",
    "Modifier éventuellement l'échelle"
   ]
  },
  {
   "cell_type": "code",
   "execution_count": 39,
   "metadata": {},
   "outputs": [],
   "source": [
    "#entrer votre code ici\n",
    "# copier /coller le programme précédent et le modifier \n"
   ]
  },
  {
   "cell_type": "markdown",
   "metadata": {},
   "source": [
    "## Le champ électrostatique"
   ]
  },
  {
   "cell_type": "markdown",
   "metadata": {},
   "source": [
    "La formule du champ électrostatique créé par un corps de charge Q  est :  $ \\overrightarrow E =  K \\times \\frac{  Q  }  {d^2} \\cdot \\overrightarrow u$ où K est la constante électrostatique , $\\overrightarrow u$ un vecteur unitaire dirigé de la charge Q vers  le point où est défini le champ  et d la distance entre la charge Q et le point où est défini le champ avec $ K=9.0 \\times  10 ^{9} SI $ .\n",
    "\n",
    "Le centre de la charge Q est situé à l'origine d'un repère orthonormé\n",
    "\n",
    "Exécuter le programme suivant et modifier \n",
    "\n",
    "- le signe de la charge source Q\n",
    "- la valeur de la charge source Q\n",
    "- le point où est défini le champ électrostatique (changer éventuellement l'échelle)"
   ]
  },
  {
   "cell_type": "code",
   "execution_count": null,
   "metadata": {},
   "outputs": [],
   "source": [
    "import matplotlib.pyplot as plt\n",
    "\n",
    "from math import sqrt\n",
    "\n",
    "plt.axes(aspect='equal')\n",
    "\n",
    "plt.grid()\n",
    "\n",
    "plt.xlim([-1.*10**-8,1.*10**-8]) # échelle en x\n",
    "\n",
    "plt.ylim([-1.*10**-8,1.*10**-8]) # échelle en y\n",
    "\n",
    "plt.xticks([-1.*10**-8,-0.5*10**-8,0,0.5*10**-8,1.*10**-8]) # affiche les valeurs sur l'échelle en x\n",
    "plt.yticks([-1.*10**-8,-0.5*10**-8,0,0.5*10**-8,1.*10**-8]) # affiche les valeurs sur l'échelle en y\n",
    "\n",
    "\n",
    "\n",
    "K=9*10**9 # valeur de K\n",
    "Q=1.6*10**-19 # valeur de la charge source en Coulomb (= une fois la charge élémentaire)\n",
    "x=4*10**-9 # abscisse en m du point où est défini le champ\n",
    "y=-1*10**-9 # ordonnée en m où est défini le champ\n",
    "\n",
    "#coordonnées du vecteur champ  électrique dans un repère orthonormé (les formules ne sont pas à connaître)\n",
    "Ex=(K*Q)*x /(x**2+y**2)**1.5 #coordonnée selon x de E\n",
    "Ey= (K*Q)*y /(x**2+y**2)**1.5  #coordonnée selon y de f\n",
    "\n",
    "E=sqrt(Ex**2+Ey**2) # calcul de la norme de E \n",
    "\n",
    "print(\"Ex=\",Ex,\"N\")# affichage de Ex\n",
    "print(\"Ey=\",Ey,\"N\")# affichage de Ey\n",
    "print(\"E=\",E,\"N\") # affichage de la norme de E \n",
    "\n",
    "# échelle\n",
    "echelle_vecteur=10**9\n",
    "echelle_carreau=5*10**-8 \n",
    "\n",
    "#coloration de la charge source selon son signe\n",
    "color = 'red' if Q > 0 else 'blue'\n",
    "\n",
    "plt.plot(0,0,marker='o',color=color,markersize = 5,markeredgewidth = 3)#affiche un \"o\" en 0,0 représentant la terre\n",
    "\n",
    "\n",
    "plt.quiver(x, y, Ex, Ey, units='dots', angles=\"xy\", scale_units='xy', scale=echelle_vecteur/echelle_carreau, label=\"force gravitationnelle\",color=\"green\")\n",
    "\n",
    "\n",
    "\n",
    "plt.show()"
   ]
  },
  {
   "cell_type": "markdown",
   "metadata": {},
   "source": [
    "### Cartographie d'un champ électrostatique"
   ]
  },
  {
   "cell_type": "markdown",
   "metadata": {},
   "source": [
    "<div class = \"alert alert-info\">\n",
    "    \n",
    "### question 9\n",
    "\n",
    "En utilisant le programme correspondnat à la cartographie du champ gravitationnel et de l'exemple du tracé du vecteur champ vu dans le programme précédent , tracer plusieurs vecteurs champ électrique en différent point de l'espace. \n",
    "\n",
    "La charge Q source du champ sera placée à l'origine "
   ]
  },
  {
   "cell_type": "code",
   "execution_count": 40,
   "metadata": {},
   "outputs": [],
   "source": [
    "#entrer votre code ici\n",
    "# copier /coller le programme précédent et le modifier \n",
    "\n",
    "\n",
    "\n"
   ]
  }
 ],
 "metadata": {
  "kernelspec": {
   "display_name": "Python 3",
   "language": "python",
   "name": "python3"
  },
  "language_info": {
   "codemirror_mode": {
    "name": "ipython",
    "version": 3
   },
   "file_extension": ".py",
   "mimetype": "text/x-python",
   "name": "python",
   "nbconvert_exporter": "python",
   "pygments_lexer": "ipython3",
   "version": "3.7.3"
  }
 },
 "nbformat": 4,
 "nbformat_minor": 4
}
